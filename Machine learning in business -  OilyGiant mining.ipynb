{
 "cells": [
  {
   "cell_type": "markdown",
   "metadata": {},
   "source": [
    "# Machine Learning in Business Project"
   ]
  },
  {
   "cell_type": "markdown",
   "metadata": {},
   "source": [
    "In this project for the OilyGiant mining, my task is to find the best place for a new well.\n",
    "The Steps i will make to choose the location:\n",
    "1. Collect the oil well parameters in the selected region: oil quality and volume of reserves;\n",
    "2. Build a model for predicting the volume of reserves in the new wells;\n",
    "3. Pick the oil wells with the highest estimated values;\n",
    "4. Pick the region with the highest total profit for the selected oil wells, after risk evaluation.\n"
   ]
  },
  {
   "cell_type": "code",
   "execution_count": 2,
   "metadata": {},
   "outputs": [],
   "source": [
    "#Loading all the libraries i will use:\n",
    "import pandas as pd\n",
    "import numpy as np\n",
    "import datetime\n",
    "import math \n",
    "from scipy import stats as st\n",
    "import warnings\n",
    "warnings.filterwarnings(\"ignore\")\n",
    "import requests \n",
    "import io\n",
    "import seaborn as sns\n",
    "from sklearn.ensemble import RandomForestClassifier\n",
    "from sklearn.model_selection import train_test_split\n",
    "from sklearn.linear_model import LogisticRegression\n",
    "import numpy as np\n",
    "from sklearn import linear_model, decomposition, datasets\n",
    "from sklearn.pipeline import Pipeline\n",
    "from sklearn.tree import DecisionTreeClassifier\n",
    "from sklearn.metrics import accuracy_score\n",
    "from sklearn.metrics import mean_squared_error\n",
    "from sklearn.linear_model import LinearRegression\n",
    "from sklearn.preprocessing import StandardScaler\n",
    "from sklearn.utils import shuffle\n",
    "\n",
    "from sklearn.ensemble import RandomForestRegressor\n",
    "from sklearn.metrics import mean_absolute_error\n",
    "\n"
   ]
  },
  {
   "cell_type": "markdown",
   "metadata": {},
   "source": [
    "## Data Preparation "
   ]
  },
  {
   "cell_type": "code",
   "execution_count": 4,
   "metadata": {},
   "outputs": [
    {
     "data": {
      "text/html": [
       "<div>\n",
       "<style scoped>\n",
       "    .dataframe tbody tr th:only-of-type {\n",
       "        vertical-align: middle;\n",
       "    }\n",
       "\n",
       "    .dataframe tbody tr th {\n",
       "        vertical-align: top;\n",
       "    }\n",
       "\n",
       "    .dataframe thead th {\n",
       "        text-align: right;\n",
       "    }\n",
       "</style>\n",
       "<table border=\"1\" class=\"dataframe\">\n",
       "  <thead>\n",
       "    <tr style=\"text-align: right;\">\n",
       "      <th></th>\n",
       "      <th>id</th>\n",
       "      <th>f0</th>\n",
       "      <th>f1</th>\n",
       "      <th>f2</th>\n",
       "      <th>product</th>\n",
       "    </tr>\n",
       "  </thead>\n",
       "  <tbody>\n",
       "    <tr>\n",
       "      <th>0</th>\n",
       "      <td>kBEdx</td>\n",
       "      <td>-15.001348</td>\n",
       "      <td>-8.276000</td>\n",
       "      <td>-0.005876</td>\n",
       "      <td>3.179103</td>\n",
       "    </tr>\n",
       "    <tr>\n",
       "      <th>1</th>\n",
       "      <td>62mP7</td>\n",
       "      <td>14.272088</td>\n",
       "      <td>-3.475083</td>\n",
       "      <td>0.999183</td>\n",
       "      <td>26.953261</td>\n",
       "    </tr>\n",
       "    <tr>\n",
       "      <th>2</th>\n",
       "      <td>vyE1P</td>\n",
       "      <td>6.263187</td>\n",
       "      <td>-5.948386</td>\n",
       "      <td>5.001160</td>\n",
       "      <td>134.766305</td>\n",
       "    </tr>\n",
       "    <tr>\n",
       "      <th>3</th>\n",
       "      <td>KcrkZ</td>\n",
       "      <td>-13.081196</td>\n",
       "      <td>-11.506057</td>\n",
       "      <td>4.999415</td>\n",
       "      <td>137.945408</td>\n",
       "    </tr>\n",
       "    <tr>\n",
       "      <th>4</th>\n",
       "      <td>AHL4O</td>\n",
       "      <td>12.702195</td>\n",
       "      <td>-8.147433</td>\n",
       "      <td>5.004363</td>\n",
       "      <td>134.766305</td>\n",
       "    </tr>\n",
       "    <tr>\n",
       "      <th>5</th>\n",
       "      <td>HHckp</td>\n",
       "      <td>-3.327590</td>\n",
       "      <td>-2.205276</td>\n",
       "      <td>3.003647</td>\n",
       "      <td>84.038886</td>\n",
       "    </tr>\n",
       "    <tr>\n",
       "      <th>6</th>\n",
       "      <td>h5Ujo</td>\n",
       "      <td>-11.142655</td>\n",
       "      <td>-10.133399</td>\n",
       "      <td>4.002382</td>\n",
       "      <td>110.992147</td>\n",
       "    </tr>\n",
       "  </tbody>\n",
       "</table>\n",
       "</div>"
      ],
      "text/plain": [
       "      id         f0         f1        f2     product\n",
       "0  kBEdx -15.001348  -8.276000 -0.005876    3.179103\n",
       "1  62mP7  14.272088  -3.475083  0.999183   26.953261\n",
       "2  vyE1P   6.263187  -5.948386  5.001160  134.766305\n",
       "3  KcrkZ -13.081196 -11.506057  4.999415  137.945408\n",
       "4  AHL4O  12.702195  -8.147433  5.004363  134.766305\n",
       "5  HHckp  -3.327590  -2.205276  3.003647   84.038886\n",
       "6  h5Ujo -11.142655 -10.133399  4.002382  110.992147"
      ]
     },
     "execution_count": 4,
     "metadata": {},
     "output_type": "execute_result"
    }
   ],
   "source": [
    "# Downloading the csv file from my GitHub account\n",
    "\n",
    "url1 = \"https://raw.githubusercontent.com/yoav-karsenty/Machine-learning-in-business---OilyGiant-mining/main/geo_data_0.csv\"\n",
    "download1 = requests.get(url1).content\n",
    "url2 = \"https://raw.githubusercontent.com/yoav-karsenty/Machine-learning-in-business---OilyGiant-mining/main/geo_data_1.csv\"\n",
    "download2 = requests.get(url2).content\n",
    "url3 = \"https://raw.githubusercontent.com/yoav-karsenty/Machine-learning-in-business---OilyGiant-mining/main/geo_data_2.csv\"\n",
    "download3 = requests.get(url3).content\n",
    "\n",
    "# Reading the downloaded content and turning it into a pandas dataframe\n",
    "\n",
    "g0 = pd.read_csv(io.StringIO(download1.decode('utf-8')))\n",
    "g1 = pd.read_csv(io.StringIO(download2.decode('utf-8')))\n",
    "g2 = pd.read_csv(io.StringIO(download3.decode('utf-8')))\n",
    "\n",
    "\n",
    "# Exploring the data\n",
    "g1.head(7)"
   ]
  },
  {
   "cell_type": "code",
   "execution_count": 5,
   "metadata": {
    "scrolled": false
   },
   "outputs": [
    {
     "data": {
      "text/html": [
       "<div>\n",
       "<style scoped>\n",
       "    .dataframe tbody tr th:only-of-type {\n",
       "        vertical-align: middle;\n",
       "    }\n",
       "\n",
       "    .dataframe tbody tr th {\n",
       "        vertical-align: top;\n",
       "    }\n",
       "\n",
       "    .dataframe thead th {\n",
       "        text-align: right;\n",
       "    }\n",
       "</style>\n",
       "<table border=\"1\" class=\"dataframe\">\n",
       "  <thead>\n",
       "    <tr style=\"text-align: right;\">\n",
       "      <th></th>\n",
       "      <th>id</th>\n",
       "      <th>f0</th>\n",
       "      <th>f1</th>\n",
       "      <th>f2</th>\n",
       "      <th>product</th>\n",
       "    </tr>\n",
       "  </thead>\n",
       "  <tbody>\n",
       "    <tr>\n",
       "      <th>0</th>\n",
       "      <td>txEyH</td>\n",
       "      <td>0.705745</td>\n",
       "      <td>-0.497823</td>\n",
       "      <td>1.221170</td>\n",
       "      <td>105.280062</td>\n",
       "    </tr>\n",
       "    <tr>\n",
       "      <th>1</th>\n",
       "      <td>2acmU</td>\n",
       "      <td>1.334711</td>\n",
       "      <td>-0.340164</td>\n",
       "      <td>4.365080</td>\n",
       "      <td>73.037750</td>\n",
       "    </tr>\n",
       "    <tr>\n",
       "      <th>2</th>\n",
       "      <td>409Wp</td>\n",
       "      <td>1.022732</td>\n",
       "      <td>0.151990</td>\n",
       "      <td>1.419926</td>\n",
       "      <td>85.265647</td>\n",
       "    </tr>\n",
       "    <tr>\n",
       "      <th>3</th>\n",
       "      <td>iJLyR</td>\n",
       "      <td>-0.032172</td>\n",
       "      <td>0.139033</td>\n",
       "      <td>2.978566</td>\n",
       "      <td>168.620776</td>\n",
       "    </tr>\n",
       "    <tr>\n",
       "      <th>4</th>\n",
       "      <td>Xdl7t</td>\n",
       "      <td>1.988431</td>\n",
       "      <td>0.155413</td>\n",
       "      <td>4.751769</td>\n",
       "      <td>154.036647</td>\n",
       "    </tr>\n",
       "  </tbody>\n",
       "</table>\n",
       "</div>"
      ],
      "text/plain": [
       "      id        f0        f1        f2     product\n",
       "0  txEyH  0.705745 -0.497823  1.221170  105.280062\n",
       "1  2acmU  1.334711 -0.340164  4.365080   73.037750\n",
       "2  409Wp  1.022732  0.151990  1.419926   85.265647\n",
       "3  iJLyR -0.032172  0.139033  2.978566  168.620776\n",
       "4  Xdl7t  1.988431  0.155413  4.751769  154.036647"
      ]
     },
     "execution_count": 5,
     "metadata": {},
     "output_type": "execute_result"
    }
   ],
   "source": [
    "#Exploring the dataset\n",
    "g0.head()"
   ]
  },
  {
   "cell_type": "code",
   "execution_count": 6,
   "metadata": {
    "scrolled": false
   },
   "outputs": [
    {
     "name": "stdout",
     "output_type": "stream",
     "text": [
      "<class 'pandas.core.frame.DataFrame'>\n",
      "RangeIndex: 100000 entries, 0 to 99999\n",
      "Data columns (total 5 columns):\n",
      " #   Column   Non-Null Count   Dtype  \n",
      "---  ------   --------------   -----  \n",
      " 0   id       100000 non-null  object \n",
      " 1   f0       100000 non-null  float64\n",
      " 2   f1       100000 non-null  float64\n",
      " 3   f2       100000 non-null  float64\n",
      " 4   product  100000 non-null  float64\n",
      "dtypes: float64(4), object(1)\n",
      "memory usage: 3.8+ MB\n"
     ]
    }
   ],
   "source": [
    "g0.info()"
   ]
  },
  {
   "cell_type": "code",
   "execution_count": 5,
   "metadata": {},
   "outputs": [
    {
     "data": {
      "text/plain": [
       "0"
      ]
     },
     "execution_count": 5,
     "metadata": {},
     "output_type": "execute_result"
    }
   ],
   "source": [
    "g0.duplicated().sum()"
   ]
  },
  {
   "cell_type": "markdown",
   "metadata": {},
   "source": [
    "No missing values or duplicates. We can nove on"
   ]
  },
  {
   "cell_type": "code",
   "execution_count": 6,
   "metadata": {},
   "outputs": [],
   "source": [
    "#Dropping the id column from the datasets, it will interfere with my model training \n",
    "g0.drop(['id'],axis = 1,inplace = True)\n",
    "g1.drop(['id'],axis = 1,inplace = True)\n",
    "g2.drop(['id'],axis = 1,inplace = True)\n"
   ]
  },
  {
   "cell_type": "markdown",
   "metadata": {},
   "source": [
    "Next, i want to get predictions for volume of reserves for new wells in each region. \n",
    "In order to do that i will train a LinearRegression model. "
   ]
  },
  {
   "cell_type": "markdown",
   "metadata": {},
   "source": [
    "## Model Training "
   ]
  },
  {
   "cell_type": "code",
   "execution_count": 7,
   "metadata": {},
   "outputs": [],
   "source": [
    "features0 = g0.drop(['product'],axis =1) #Getting the features and target from the dataset\n",
    "\n",
    "target0 =g0['product']\n",
    "\n",
    "features_train0, features_valid0, target_train0,target_valid0 = train_test_split(\n",
    "features0, target0, test_size=0.25, random_state=12345) # spliting 25% of data to make validation set\n",
    "\n",
    "model = LinearRegression()\n",
    "\n",
    "model.fit(features_train0,target_train0) # training model on training set\n",
    "predictions_0 = model.predict(features_valid0) # getting model predictions on validation set\n",
    "pred =pd.Series(predictions_0, index = target_valid0.index)"
   ]
  },
  {
   "cell_type": "code",
   "execution_count": 8,
   "metadata": {},
   "outputs": [],
   "source": [
    "features1 = g1.drop(['product'],axis =1) #Getting the features and target from the dataset\n",
    "\n",
    "target1 =g1['product']\n",
    "\n",
    "features_train1, features_valid1, target_train1,target_valid1 = train_test_split(\n",
    "features1, target1, test_size=0.25, random_state=12345) # splitting 25% of data to make validation set\n",
    "\n",
    "model = LinearRegression()\n",
    "\n",
    "model.fit(features_train1,target_train1) # training model on training set\n",
    "predictions_1 = model.predict(features_valid1) # getting model predictions on validation set\n",
    "pred1 =pd.Series(predictions_1, index = target_valid1.index)"
   ]
  },
  {
   "cell_type": "code",
   "execution_count": 9,
   "metadata": {},
   "outputs": [],
   "source": [
    "features2 = g2.drop(['product'],axis =1)#Getting the features and target from the dataset\n",
    "\n",
    "target2 =g2['product']\n",
    "\n",
    "features_train2, features_valid2, target_train2,target_valid2 = train_test_split(\n",
    "features2, target2, test_size=0.25, random_state=12345) # split 25% of data to make validation set\n",
    "\n",
    "model = LinearRegression()\n",
    "\n",
    "model.fit(features_train2,target_train2) # train model on training set\n",
    "predictions_2 = model.predict(features_valid2) # get model predictions on validation set\n",
    "pred2 =pd.Series(predictions_2, index = target_valid2.index)"
   ]
  },
  {
   "cell_type": "markdown",
   "metadata": {},
   "source": [
    "Next i will build a function that will Print the average volume of predicted reserves model RMSE.\n"
   ]
  },
  {
   "cell_type": "code",
   "execution_count": 10,
   "metadata": {},
   "outputs": [],
   "source": [
    "#i will use these lists to create a DataFrame later on\n",
    "rmse_score = []\n",
    "names = []\n",
    "avg_volume = []"
   ]
  },
  {
   "cell_type": "code",
   "execution_count": 11,
   "metadata": {},
   "outputs": [],
   "source": [
    "def rmse(df,target_valid,predictions_valid):\n",
    "    \n",
    "    result = mean_squared_error(target_valid,predictions_valid)**0.5\n",
    "    name =[x for x in globals() if globals()[x] is df][0]\n",
    "    print(\"Region: %s\" % name)\n",
    "    print(\"RMSE of the linear regression model on the validation set:\", result)\n",
    "    fake_predictions = pd.Series(target_valid.mean(), index=target_valid.index) \n",
    "\n",
    "    rmse = mean_squared_error(target_valid,fake_predictions)**0.5\n",
    "    rmse_score.append(result)\n",
    "    names.append(name)\n",
    "    avg_volume.append(predictions_valid.mean())\n",
    "    print('RMSE of fake model:', rmse)\n",
    "    print(\"Average volume of predicted reserves:\" ,predictions_valid.mean()  )\n",
    "\n",
    "    print('---'*10)"
   ]
  },
  {
   "cell_type": "code",
   "execution_count": 12,
   "metadata": {},
   "outputs": [],
   "source": [
    "#creating a list of parameters, i will use that to apply the functoin \n",
    "list_target_preds = [[g0,target_valid0,predictions_0],[g1,target_valid1,predictions_1],[g2,target_valid2,predictions_2]]"
   ]
  },
  {
   "cell_type": "code",
   "execution_count": 13,
   "metadata": {},
   "outputs": [
    {
     "name": "stdout",
     "output_type": "stream",
     "text": [
      "Region: g0\n",
      "RMSE of the linear regression model on the validation set: 37.5794217150813\n",
      "RMSE of fake model: 44.28602687855358\n",
      "Average volume of predicted reserves: 92.59256778438035\n",
      "------------------------------\n",
      "Region: g1\n",
      "RMSE of the linear regression model on the validation set: 0.893099286775617\n",
      "RMSE of fake model: 46.0212449226281\n",
      "Average volume of predicted reserves: 68.728546895446\n",
      "------------------------------\n",
      "Region: g2\n",
      "RMSE of the linear regression model on the validation set: 40.02970873393434\n",
      "RMSE of fake model: 44.902084376898294\n",
      "Average volume of predicted reserves: 94.96504596800489\n",
      "------------------------------\n"
     ]
    }
   ],
   "source": [
    "#Applying the function \n",
    "for i in list_target_preds:\n",
    "    rmse(i[0],i[1],i[2])"
   ]
  },
  {
   "cell_type": "code",
   "execution_count": 14,
   "metadata": {
    "scrolled": false
   },
   "outputs": [
    {
     "data": {
      "text/html": [
       "<div>\n",
       "<style scoped>\n",
       "    .dataframe tbody tr th:only-of-type {\n",
       "        vertical-align: middle;\n",
       "    }\n",
       "\n",
       "    .dataframe tbody tr th {\n",
       "        vertical-align: top;\n",
       "    }\n",
       "\n",
       "    .dataframe thead th {\n",
       "        text-align: right;\n",
       "    }\n",
       "</style>\n",
       "<table border=\"1\" class=\"dataframe\">\n",
       "  <thead>\n",
       "    <tr style=\"text-align: right;\">\n",
       "      <th></th>\n",
       "      <th>Name</th>\n",
       "      <th>rmse_score</th>\n",
       "      <th>avg_vol</th>\n",
       "    </tr>\n",
       "  </thead>\n",
       "  <tbody>\n",
       "    <tr>\n",
       "      <th>0</th>\n",
       "      <td>g0</td>\n",
       "      <td>37.579422</td>\n",
       "      <td>92.592568</td>\n",
       "    </tr>\n",
       "    <tr>\n",
       "      <th>1</th>\n",
       "      <td>g1</td>\n",
       "      <td>0.893099</td>\n",
       "      <td>68.728547</td>\n",
       "    </tr>\n",
       "    <tr>\n",
       "      <th>2</th>\n",
       "      <td>g2</td>\n",
       "      <td>40.029709</td>\n",
       "      <td>94.965046</td>\n",
       "    </tr>\n",
       "  </tbody>\n",
       "</table>\n",
       "</div>"
      ],
      "text/plain": [
       "  Name  rmse_score    avg_vol\n",
       "0   g0   37.579422  92.592568\n",
       "1   g1    0.893099  68.728547\n",
       "2   g2   40.029709  94.965046"
      ]
     },
     "execution_count": 14,
     "metadata": {},
     "output_type": "execute_result"
    }
   ],
   "source": [
    "\n",
    "model_scores = pd.DataFrame(zip(names, rmse_score,avg_volume),\n",
    "               columns =['Name', 'rmse_score','avg_vol'])\n",
    "model_scores"
   ]
  },
  {
   "cell_type": "markdown",
   "metadata": {},
   "source": [
    "It looks like the g1 region has the lowest average volume of predicted reserves, but it has the best rmse score by far - 0.89. I will need to investigate more to reach more conclusive conclusions.   "
   ]
  },
  {
   "cell_type": "markdown",
   "metadata": {},
   "source": [
    "Next, i want to Prepare the data for profit calculation. i will do the following:\n",
    "1. Store all key values for calculations in separate variables.\n",
    "2. Calculate the volume of reserves sufficient for developing a new well without losses. \n",
    "3. Compare the obtained value with the average volume of reserves in each region.\n",
    "4. Write a function to calculate profit from a set of selected oil wells and model predictions:\n",
    "\n",
    "the conditions i should consider:\n",
    "1. When exploring the region, a study of 500 points is carried with picking the best 200 points for the profit calculation.\n",
    "2. The budget for development of 200 oil wells is 100 USD million.\n",
    "3. One barrel of raw materials brings 4.5 USD of revenue The revenue from one unit of product is 4,500 dollars (volume of reserves is in thousand barrels).\n",
    "\n"
   ]
  },
  {
   "cell_type": "markdown",
   "metadata": {},
   "source": [
    "## Calculating Profits "
   ]
  },
  {
   "cell_type": "code",
   "execution_count": 15,
   "metadata": {},
   "outputs": [],
   "source": [
    "#Storing all key values for calculations in separate variables\n",
    "\n",
    "#Number of wells to be developed.\n",
    "WELLS = 200\n",
    "\n",
    "#Number of wells to sample in bootstrapping.\n",
    "N_BOOT = 500\n",
    "\n",
    "#Revenue (in USD) per one unit of product.\n",
    "PRODUCT_REV = 4500\n",
    "\n",
    "#Total well development budget.\n",
    "BUDJET = 100000000\n",
    "\n",
    "#Budget per well.\n",
    "BUDJUET_PER_WELL = BUDJET / WELLS"
   ]
  },
  {
   "cell_type": "code",
   "execution_count": 27,
   "metadata": {
    "scrolled": false
   },
   "outputs": [
    {
     "name": "stdout",
     "output_type": "stream",
     "text": [
      "Minimum volume of reserves to avoid loss: 111.11\n"
     ]
    },
    {
     "data": {
      "text/html": [
       "<div>\n",
       "<style scoped>\n",
       "    .dataframe tbody tr th:only-of-type {\n",
       "        vertical-align: middle;\n",
       "    }\n",
       "\n",
       "    .dataframe tbody tr th {\n",
       "        vertical-align: top;\n",
       "    }\n",
       "\n",
       "    .dataframe thead th {\n",
       "        text-align: right;\n",
       "    }\n",
       "</style>\n",
       "<table border=\"1\" class=\"dataframe\">\n",
       "  <thead>\n",
       "    <tr style=\"text-align: right;\">\n",
       "      <th></th>\n",
       "      <th>Name</th>\n",
       "      <th>rmse_score</th>\n",
       "      <th>avg_vol</th>\n",
       "      <th>Vol. Diff.</th>\n",
       "    </tr>\n",
       "  </thead>\n",
       "  <tbody>\n",
       "    <tr>\n",
       "      <th>0</th>\n",
       "      <td>g0</td>\n",
       "      <td>37.579422</td>\n",
       "      <td>92.592568</td>\n",
       "      <td>-18.517432</td>\n",
       "    </tr>\n",
       "    <tr>\n",
       "      <th>1</th>\n",
       "      <td>g1</td>\n",
       "      <td>0.893099</td>\n",
       "      <td>68.728547</td>\n",
       "      <td>-42.381453</td>\n",
       "    </tr>\n",
       "    <tr>\n",
       "      <th>2</th>\n",
       "      <td>g2</td>\n",
       "      <td>40.029709</td>\n",
       "      <td>94.965046</td>\n",
       "      <td>-16.144954</td>\n",
       "    </tr>\n",
       "  </tbody>\n",
       "</table>\n",
       "</div>"
      ],
      "text/plain": [
       "  Name  rmse_score    avg_vol  Vol. Diff.\n",
       "0   g0   37.579422  92.592568  -18.517432\n",
       "1   g1    0.893099  68.728547  -42.381453\n",
       "2   g2   40.029709  94.965046  -16.144954"
      ]
     },
     "metadata": {},
     "output_type": "display_data"
    }
   ],
   "source": [
    "#Calculating minimum volume of reserves sufficient for developing a new well without losses.\n",
    "print(f\"Minimum volume of reserves to avoid loss: {round((BUDJUET_PER_WELL/PRODUCT_REV), 2)}\")\n",
    "\n",
    "#Addding column to model_scores for difference between each regions average volume and minimum required volume.\n",
    "model_scores['Vol. Diff.'] = model_scores['avg_vol'] - round((BUDJUET_PER_WELL/PRODUCT_REV), 2)\n",
    "\n",
    "display(model_scores)\n",
    "\n",
    "\n"
   ]
  },
  {
   "cell_type": "code",
   "execution_count": 28,
   "metadata": {},
   "outputs": [],
   "source": [
    "# A function to calculate profit from a set of selected oil wells and model predictions:\n",
    "def profit(target, pred, count):\n",
    "    pred_sorted = pred.sort_values(ascending=False)\n",
    "    selected = target[pred_sorted.index][:count]\n",
    "    return (PRODUCT_REV * selected.sum()) - BUDJUET_PER_WELL*count\n",
    "\n"
   ]
  },
  {
   "cell_type": "code",
   "execution_count": 29,
   "metadata": {},
   "outputs": [
    {
     "data": {
      "text/plain": [
       "33208260.43139851"
      ]
     },
     "execution_count": 29,
     "metadata": {},
     "output_type": "execute_result"
    }
   ],
   "source": [
    "#Applying the function\n",
    "profit(target_valid0,pred,WELLS)"
   ]
  },
  {
   "cell_type": "code",
   "execution_count": 30,
   "metadata": {},
   "outputs": [
    {
     "data": {
      "text/plain": [
       "24150866.966815114"
      ]
     },
     "execution_count": 30,
     "metadata": {},
     "output_type": "execute_result"
    }
   ],
   "source": [
    "profit(target_valid1,pred1,WELLS)"
   ]
  },
  {
   "cell_type": "code",
   "execution_count": 31,
   "metadata": {
    "scrolled": true
   },
   "outputs": [
    {
     "data": {
      "text/plain": [
       "27103499.635998324"
      ]
     },
     "execution_count": 31,
     "metadata": {},
     "output_type": "execute_result"
    }
   ],
   "source": [
    "profit(target_valid2,pred2,WELLS)"
   ]
  },
  {
   "cell_type": "markdown",
   "metadata": {},
   "source": [
    "We can see the best region for oil wells' development in terms of revenue is g0 with 33,208,260.43. \n",
    "next i want to calculate risks and profit for each region, given the next condition:\n",
    "1. After the risk evaluation, keep only the regions with the risk of losses lower than 2.5%. From the ones that fit the criteria, the region with the highest average profit should be selected. \n",
    "\n",
    "In order to get a 95% confidence interval, i wiil use the bootstrap technique.\n",
    "I will build a function that will do the following for every region:\n",
    "1. Loop 1000 times\n",
    "2. For each iteration take a sample with size 500, replace=True\n",
    "3. For each sample take the top 200 wells based on the prediction of the production volume \n",
    "4. call the profiy function(target_subsample, pred_subsample, 200), where the count is equal to 200.\n",
    "5. Save the profit for each sample in the array. The size of the array would be 1000, which is the number of loops.\n",
    "6. Compute and return statistics from this array: mean, confidence interval, risk of losses."
   ]
  },
  {
   "cell_type": "markdown",
   "metadata": {},
   "source": [
    "## Bootstrapping and Risk Evaluation "
   ]
  },
  {
   "cell_type": "code",
   "execution_count": 32,
   "metadata": {},
   "outputs": [],
   "source": [
    "#Creating a random variable i will us in the sampeling process  \n",
    "state = np.random.RandomState(12345)\n",
    "    \n"
   ]
  },
  {
   "cell_type": "code",
   "execution_count": 35,
   "metadata": {},
   "outputs": [],
   "source": [
    "\n",
    "def boot(target,predicts):\n",
    "    values = []\n",
    "    for i in range(1000):    \n",
    "        target_subsample = target.sample(n=500, replace = True,random_state = state) # sample with 500 random wells taken from. the target\n",
    "        predict_subsamples = predicts[target_subsample.index] # # sample values by indexes from target subsample tken from predictions \n",
    "        values.append(profit(target_subsample,predict_subsamples,200)) # #calling the revenue function\n",
    "        \n",
    "    values = pd.Series(values)\n",
    "    v_mean = values.mean() # AVG Profit \n",
    "\n",
    "    #creating a 97.5% confidence interval\n",
    "\n",
    "    lower =  values.quantile(0.025) # lower 2.5%\n",
    "    upper = values.quantile(0.975) # upper 2.5%\n",
    " \n",
    "    risk = pd.DataFrame(data = values, columns=['val']) #Creating a df out of the calues Series so i could use query\n",
    "   \n",
    "    perc =  risk.query('val > val.quantile(0.025) and val < val.quantile(0.975)') \n",
    "    print(\"Average revenue:\", v_mean)\n",
    "    print(\"2.5% quantile:\", lower)\n",
    "    print(\"97.5% quantile:\", upper)\n",
    "\n",
    "    print (\"Risk percentage:\",risk[risk['val'] < 0].count() / 1000)\n"
   ]
  },
  {
   "cell_type": "code",
   "execution_count": 36,
   "metadata": {},
   "outputs": [
    {
     "name": "stdout",
     "output_type": "stream",
     "text": [
      "Average revenue: 4215633.061676807\n",
      "2.5% quantile: -1194993.4941164043\n",
      "97.5% quantile: 9470399.88723111\n",
      "Risk percentage: val    0.06\n",
      "dtype: float64\n"
     ]
    }
   ],
   "source": [
    "#Applying the boot function\n",
    "boot(target_valid0,pred)"
   ]
  },
  {
   "cell_type": "code",
   "execution_count": 37,
   "metadata": {},
   "outputs": [
    {
     "name": "stdout",
     "output_type": "stream",
     "text": [
      "Average revenue: 5068142.889989467\n",
      "2.5% quantile: 1102361.1441505544\n",
      "97.5% quantile: 9400891.833443346\n",
      "Risk percentage: val    0.008\n",
      "dtype: float64\n"
     ]
    }
   ],
   "source": [
    "boot(target_valid1,pred1)"
   ]
  },
  {
   "cell_type": "code",
   "execution_count": 38,
   "metadata": {},
   "outputs": [
    {
     "name": "stdout",
     "output_type": "stream",
     "text": [
      "Average revenue: 4242124.880991598\n",
      "2.5% quantile: -949202.6843301129\n",
      "97.5% quantile: 9328900.21685064\n",
      "Risk percentage: val    0.049\n",
      "dtype: float64\n"
     ]
    }
   ],
   "source": [
    "boot(target_valid2,pred2)"
   ]
  },
  {
   "cell_type": "markdown",
   "metadata": {},
   "source": [
    "## Conclusion"
   ]
  },
  {
   "cell_type": "markdown",
   "metadata": {},
   "source": [
    "Given the risk criteria (risk got to be lower than 2.5% ), the only region that meets the criteria is g1. with 0% risk.  "
   ]
  }
 ],
 "metadata": {
  "ExecuteTimeLog": [
   {
    "duration": 1436,
    "start_time": "2022-06-16T07:20:14.097Z"
   },
   {
    "duration": 120,
    "start_time": "2022-06-16T07:38:22.728Z"
   },
   {
    "duration": 22,
    "start_time": "2022-06-16T07:39:38.361Z"
   },
   {
    "duration": 46,
    "start_time": "2022-06-16T07:40:45.332Z"
   },
   {
    "duration": 467,
    "start_time": "2022-06-16T07:40:49.411Z"
   },
   {
    "duration": 205,
    "start_time": "2022-06-16T07:40:55.081Z"
   },
   {
    "duration": 1188,
    "start_time": "2022-06-16T07:41:05.940Z"
   },
   {
    "duration": 15,
    "start_time": "2022-06-16T07:41:12.708Z"
   },
   {
    "duration": 14,
    "start_time": "2022-06-16T07:41:21.005Z"
   },
   {
    "duration": 1581,
    "start_time": "2022-06-19T09:09:33.003Z"
   },
   {
    "duration": 1629,
    "start_time": "2022-06-19T09:09:35.057Z"
   },
   {
    "duration": 15,
    "start_time": "2022-06-19T09:09:38.001Z"
   },
   {
    "duration": 15,
    "start_time": "2022-06-19T09:09:39.085Z"
   },
   {
    "duration": 126,
    "start_time": "2022-06-19T09:14:26.488Z"
   },
   {
    "duration": 7,
    "start_time": "2022-06-19T09:14:33.860Z"
   },
   {
    "duration": 13,
    "start_time": "2022-06-19T09:29:14.634Z"
   },
   {
    "duration": 23,
    "start_time": "2022-06-19T09:29:36.083Z"
   },
   {
    "duration": 8,
    "start_time": "2022-06-19T09:30:05.760Z"
   },
   {
    "duration": 105,
    "start_time": "2022-06-19T09:30:08.247Z"
   },
   {
    "duration": 5,
    "start_time": "2022-06-19T09:31:13.746Z"
   },
   {
    "duration": 5,
    "start_time": "2022-06-19T09:31:22.757Z"
   },
   {
    "duration": 10,
    "start_time": "2022-06-19T09:31:41.050Z"
   },
   {
    "duration": 4,
    "start_time": "2022-06-19T09:31:51.669Z"
   },
   {
    "duration": 21,
    "start_time": "2022-06-19T09:34:06.450Z"
   },
   {
    "duration": 10,
    "start_time": "2022-06-19T09:39:28.788Z"
   },
   {
    "duration": 5,
    "start_time": "2022-06-19T09:39:54.166Z"
   },
   {
    "duration": 14,
    "start_time": "2022-06-19T09:39:56.675Z"
   },
   {
    "duration": 27,
    "start_time": "2022-06-19T09:40:03.893Z"
   },
   {
    "duration": 29,
    "start_time": "2022-06-19T09:40:22.419Z"
   },
   {
    "duration": 4,
    "start_time": "2022-06-19T09:40:26.483Z"
   },
   {
    "duration": 40,
    "start_time": "2022-06-19T09:42:35.279Z"
   },
   {
    "duration": 11,
    "start_time": "2022-06-19T09:42:54.970Z"
   },
   {
    "duration": 5,
    "start_time": "2022-06-19T09:46:01.012Z"
   },
   {
    "duration": 30,
    "start_time": "2022-06-19T09:46:05.824Z"
   },
   {
    "duration": 6,
    "start_time": "2022-06-19T09:46:07.601Z"
   },
   {
    "duration": 5,
    "start_time": "2022-06-19T09:52:01.493Z"
   },
   {
    "duration": 5,
    "start_time": "2022-06-19T09:52:02.266Z"
   },
   {
    "duration": 63,
    "start_time": "2022-06-19T09:52:16.181Z"
   },
   {
    "duration": 26,
    "start_time": "2022-06-19T09:52:36.189Z"
   },
   {
    "duration": 34,
    "start_time": "2022-06-19T09:52:46.771Z"
   },
   {
    "duration": 7,
    "start_time": "2022-06-19T09:57:14.496Z"
   },
   {
    "duration": 28,
    "start_time": "2022-06-19T09:57:49.957Z"
   },
   {
    "duration": 35,
    "start_time": "2022-06-19T09:58:11.555Z"
   },
   {
    "duration": 53,
    "start_time": "2022-06-19T09:59:27.298Z"
   },
   {
    "duration": 15,
    "start_time": "2022-06-19T09:59:40.119Z"
   },
   {
    "duration": 5,
    "start_time": "2022-06-19T09:59:48.281Z"
   },
   {
    "duration": 35,
    "start_time": "2022-06-19T09:59:49.977Z"
   },
   {
    "duration": 4,
    "start_time": "2022-06-19T10:03:55.210Z"
   },
   {
    "duration": 355,
    "start_time": "2022-06-19T10:03:55.578Z"
   },
   {
    "duration": 357,
    "start_time": "2022-06-19T10:04:02.705Z"
   },
   {
    "duration": 9,
    "start_time": "2022-06-19T10:04:03.171Z"
   },
   {
    "duration": 14,
    "start_time": "2022-06-19T10:04:08.776Z"
   },
   {
    "duration": 4,
    "start_time": "2022-06-19T10:04:09.556Z"
   },
   {
    "duration": 28,
    "start_time": "2022-06-19T10:04:10.453Z"
   },
   {
    "duration": 33,
    "start_time": "2022-06-19T10:04:44.275Z"
   },
   {
    "duration": 35,
    "start_time": "2022-06-19T10:04:46.104Z"
   },
   {
    "duration": 27,
    "start_time": "2022-06-19T10:04:50.085Z"
   },
   {
    "duration": 5,
    "start_time": "2022-06-19T10:04:55.552Z"
   },
   {
    "duration": 25,
    "start_time": "2022-06-19T10:05:56.103Z"
   },
   {
    "duration": 6,
    "start_time": "2022-06-19T10:05:56.565Z"
   },
   {
    "duration": 33,
    "start_time": "2022-06-19T10:06:06.752Z"
   },
   {
    "duration": 5,
    "start_time": "2022-06-19T10:06:07.205Z"
   },
   {
    "duration": 51,
    "start_time": "2022-06-19T10:08:20.279Z"
   },
   {
    "duration": 5,
    "start_time": "2022-06-19T10:08:29.709Z"
   },
   {
    "duration": 32,
    "start_time": "2022-06-19T10:08:30.253Z"
   },
   {
    "duration": 4,
    "start_time": "2022-06-19T10:12:49.860Z"
   },
   {
    "duration": 27,
    "start_time": "2022-06-19T10:13:01.879Z"
   },
   {
    "duration": 28,
    "start_time": "2022-06-19T10:13:05.957Z"
   },
   {
    "duration": 51,
    "start_time": "2022-06-19T10:13:08.554Z"
   },
   {
    "duration": 5,
    "start_time": "2022-06-19T10:13:39.989Z"
   },
   {
    "duration": 382,
    "start_time": "2022-06-19T10:13:47.982Z"
   },
   {
    "duration": 12,
    "start_time": "2022-06-19T10:13:48.958Z"
   },
   {
    "duration": 14,
    "start_time": "2022-06-19T10:13:49.651Z"
   },
   {
    "duration": 33,
    "start_time": "2022-06-19T10:13:50.554Z"
   },
   {
    "duration": 12,
    "start_time": "2022-06-19T10:13:52.056Z"
   },
   {
    "duration": 4,
    "start_time": "2022-06-19T10:14:03.105Z"
   },
   {
    "duration": 53,
    "start_time": "2022-06-19T10:14:11.293Z"
   },
   {
    "duration": 28,
    "start_time": "2022-06-19T10:14:14.379Z"
   },
   {
    "duration": 5,
    "start_time": "2022-06-19T10:21:57.009Z"
   },
   {
    "duration": 17,
    "start_time": "2022-06-19T10:21:57.676Z"
   },
   {
    "duration": 5,
    "start_time": "2022-06-19T10:22:36.703Z"
   },
   {
    "duration": 367,
    "start_time": "2022-06-19T10:22:36.915Z"
   },
   {
    "duration": 9,
    "start_time": "2022-06-19T10:22:37.285Z"
   },
   {
    "duration": 15,
    "start_time": "2022-06-19T10:22:39.857Z"
   },
   {
    "duration": 18,
    "start_time": "2022-06-19T10:22:40.518Z"
   },
   {
    "duration": 5,
    "start_time": "2022-06-19T10:22:41.710Z"
   },
   {
    "duration": 29,
    "start_time": "2022-06-19T10:22:42.592Z"
   },
   {
    "duration": 4,
    "start_time": "2022-06-19T10:23:05.548Z"
   },
   {
    "duration": 98,
    "start_time": "2022-06-19T10:23:06.348Z"
   },
   {
    "duration": 5,
    "start_time": "2022-06-19T10:23:15.383Z"
   },
   {
    "duration": 24,
    "start_time": "2022-06-19T10:23:16.167Z"
   },
   {
    "duration": 4,
    "start_time": "2022-06-19T10:23:21.365Z"
   },
   {
    "duration": 22,
    "start_time": "2022-06-19T10:23:21.899Z"
   },
   {
    "duration": 10,
    "start_time": "2022-06-19T10:23:51.389Z"
   },
   {
    "duration": 329,
    "start_time": "2022-06-19T10:23:55.814Z"
   },
   {
    "duration": 4,
    "start_time": "2022-06-19T10:24:20.450Z"
   },
   {
    "duration": 11,
    "start_time": "2022-06-19T10:24:32.104Z"
   },
   {
    "duration": 31,
    "start_time": "2022-06-19T10:25:54.590Z"
   },
   {
    "duration": 10,
    "start_time": "2022-06-19T10:26:02.591Z"
   },
   {
    "duration": 10,
    "start_time": "2022-06-19T10:26:05.511Z"
   },
   {
    "duration": 12,
    "start_time": "2022-06-19T12:41:54.874Z"
   },
   {
    "duration": 43,
    "start_time": "2022-06-19T12:42:08.176Z"
   },
   {
    "duration": 1655,
    "start_time": "2022-06-19T12:42:10.358Z"
   },
   {
    "duration": 804,
    "start_time": "2022-06-19T12:42:12.015Z"
   },
   {
    "duration": 13,
    "start_time": "2022-06-19T12:42:12.821Z"
   },
   {
    "duration": 16,
    "start_time": "2022-06-19T12:42:12.836Z"
   },
   {
    "duration": 89,
    "start_time": "2022-06-19T12:42:12.853Z"
   },
   {
    "duration": 0,
    "start_time": "2022-06-19T12:42:12.943Z"
   },
   {
    "duration": 0,
    "start_time": "2022-06-19T12:42:12.944Z"
   },
   {
    "duration": 0,
    "start_time": "2022-06-19T12:42:12.945Z"
   },
   {
    "duration": 18,
    "start_time": "2022-06-19T12:42:21.052Z"
   },
   {
    "duration": 5,
    "start_time": "2022-06-19T12:42:21.970Z"
   },
   {
    "duration": 428,
    "start_time": "2022-06-19T12:42:22.478Z"
   },
   {
    "duration": 2,
    "start_time": "2022-06-19T12:42:37.690Z"
   },
   {
    "duration": 12,
    "start_time": "2022-06-19T12:44:06.102Z"
   },
   {
    "duration": 7,
    "start_time": "2022-06-19T12:44:23.954Z"
   },
   {
    "duration": 345,
    "start_time": "2022-06-19T12:44:25.366Z"
   },
   {
    "duration": 9,
    "start_time": "2022-06-19T12:44:27.178Z"
   },
   {
    "duration": 5,
    "start_time": "2022-06-19T12:44:51.626Z"
   },
   {
    "duration": 4,
    "start_time": "2022-06-19T12:44:52.442Z"
   },
   {
    "duration": 5,
    "start_time": "2022-06-19T12:45:17.581Z"
   },
   {
    "duration": 403,
    "start_time": "2022-06-19T12:45:27.198Z"
   },
   {
    "duration": 5,
    "start_time": "2022-06-19T12:45:28.866Z"
   },
   {
    "duration": 4,
    "start_time": "2022-06-19T12:45:35.320Z"
   },
   {
    "duration": 3,
    "start_time": "2022-06-19T12:47:19.977Z"
   },
   {
    "duration": 8,
    "start_time": "2022-06-19T12:47:23.462Z"
   },
   {
    "duration": 4,
    "start_time": "2022-06-19T12:48:41.816Z"
   },
   {
    "duration": 8,
    "start_time": "2022-06-19T12:48:43.470Z"
   },
   {
    "duration": 8,
    "start_time": "2022-06-19T12:49:29.953Z"
   },
   {
    "duration": 50,
    "start_time": "2022-06-19T12:50:02.659Z"
   },
   {
    "duration": 10,
    "start_time": "2022-06-19T12:50:20.239Z"
   },
   {
    "duration": 3,
    "start_time": "2022-06-19T12:50:31.808Z"
   },
   {
    "duration": 10,
    "start_time": "2022-06-19T12:50:32.024Z"
   },
   {
    "duration": 10,
    "start_time": "2022-06-19T13:02:18.487Z"
   },
   {
    "duration": 5,
    "start_time": "2022-06-19T13:02:29.886Z"
   },
   {
    "duration": 4,
    "start_time": "2022-06-19T13:02:35.766Z"
   },
   {
    "duration": 10,
    "start_time": "2022-06-19T13:02:39.523Z"
   },
   {
    "duration": 4,
    "start_time": "2022-06-19T13:02:43.409Z"
   },
   {
    "duration": 20,
    "start_time": "2022-06-19T13:32:32.717Z"
   },
   {
    "duration": 25,
    "start_time": "2022-06-19T13:32:44.978Z"
   },
   {
    "duration": 22,
    "start_time": "2022-06-19T13:32:45.984Z"
   },
   {
    "duration": 11,
    "start_time": "2022-06-19T13:33:31.534Z"
   },
   {
    "duration": 9,
    "start_time": "2022-06-19T13:33:39.314Z"
   },
   {
    "duration": 9,
    "start_time": "2022-06-19T13:33:45.171Z"
   },
   {
    "duration": 23,
    "start_time": "2022-06-19T13:34:37.274Z"
   },
   {
    "duration": 11,
    "start_time": "2022-06-19T13:34:48.490Z"
   },
   {
    "duration": 10,
    "start_time": "2022-06-19T13:34:54.178Z"
   },
   {
    "duration": 8,
    "start_time": "2022-06-19T13:35:00.526Z"
   },
   {
    "duration": 4,
    "start_time": "2022-06-19T13:35:39.630Z"
   },
   {
    "duration": 27,
    "start_time": "2022-06-19T13:35:44.326Z"
   },
   {
    "duration": 9,
    "start_time": "2022-06-19T13:35:45.204Z"
   },
   {
    "duration": 6,
    "start_time": "2022-06-19T13:35:58.122Z"
   },
   {
    "duration": 8,
    "start_time": "2022-06-19T13:36:09.006Z"
   },
   {
    "duration": 13,
    "start_time": "2022-06-19T13:36:12.546Z"
   },
   {
    "duration": 10,
    "start_time": "2022-06-19T13:36:24.519Z"
   },
   {
    "duration": 21,
    "start_time": "2022-06-19T13:39:02.215Z"
   },
   {
    "duration": 9,
    "start_time": "2022-06-19T13:39:03.499Z"
   },
   {
    "duration": 4,
    "start_time": "2022-06-19T13:40:34.918Z"
   },
   {
    "duration": 3,
    "start_time": "2022-06-19T13:43:08.018Z"
   },
   {
    "duration": 13,
    "start_time": "2022-06-19T13:44:14.375Z"
   },
   {
    "duration": 31,
    "start_time": "2022-06-19T13:44:41.675Z"
   },
   {
    "duration": 7,
    "start_time": "2022-06-19T13:44:42.701Z"
   },
   {
    "duration": 3,
    "start_time": "2022-06-19T13:44:44.875Z"
   },
   {
    "duration": 16,
    "start_time": "2022-06-19T13:44:45.427Z"
   },
   {
    "duration": 4,
    "start_time": "2022-06-19T13:45:08.567Z"
   },
   {
    "duration": 33,
    "start_time": "2022-06-19T13:45:09.235Z"
   },
   {
    "duration": 32,
    "start_time": "2022-06-19T13:45:32.115Z"
   },
   {
    "duration": 9,
    "start_time": "2022-06-19T13:45:32.591Z"
   },
   {
    "duration": 4,
    "start_time": "2022-06-19T13:45:33.514Z"
   },
   {
    "duration": 13,
    "start_time": "2022-06-19T13:45:34.075Z"
   },
   {
    "duration": 4,
    "start_time": "2022-06-19T13:45:48.121Z"
   },
   {
    "duration": 22,
    "start_time": "2022-06-19T13:45:48.683Z"
   },
   {
    "duration": 9,
    "start_time": "2022-06-19T13:45:57.331Z"
   },
   {
    "duration": 63,
    "start_time": "2022-06-19T13:46:21.332Z"
   },
   {
    "duration": 4,
    "start_time": "2022-06-19T13:46:24.811Z"
   },
   {
    "duration": 24,
    "start_time": "2022-06-19T13:46:25.501Z"
   },
   {
    "duration": 10,
    "start_time": "2022-06-19T13:46:40.695Z"
   },
   {
    "duration": 9,
    "start_time": "2022-06-19T13:47:09.987Z"
   },
   {
    "duration": 5,
    "start_time": "2022-06-19T13:47:12.467Z"
   },
   {
    "duration": 32,
    "start_time": "2022-06-19T13:48:52.631Z"
   },
   {
    "duration": 3,
    "start_time": "2022-06-19T13:49:07.511Z"
   },
   {
    "duration": 13,
    "start_time": "2022-06-19T13:49:08.455Z"
   },
   {
    "duration": 24,
    "start_time": "2022-06-19T13:49:43.799Z"
   },
   {
    "duration": 3,
    "start_time": "2022-06-19T13:49:45.279Z"
   },
   {
    "duration": 14,
    "start_time": "2022-06-19T13:49:45.743Z"
   },
   {
    "duration": 11,
    "start_time": "2022-06-19T13:49:58.940Z"
   },
   {
    "duration": 25,
    "start_time": "2022-06-19T13:50:53.675Z"
   },
   {
    "duration": 6,
    "start_time": "2022-06-19T13:50:54.926Z"
   },
   {
    "duration": 3,
    "start_time": "2022-06-19T13:50:56.726Z"
   },
   {
    "duration": 31,
    "start_time": "2022-06-19T13:50:58.975Z"
   },
   {
    "duration": 4,
    "start_time": "2022-06-19T13:52:21.287Z"
   },
   {
    "duration": 5,
    "start_time": "2022-06-19T13:52:24.548Z"
   },
   {
    "duration": 23,
    "start_time": "2022-06-19T13:52:26.695Z"
   },
   {
    "duration": 4,
    "start_time": "2022-06-19T13:52:27.380Z"
   },
   {
    "duration": 4,
    "start_time": "2022-06-19T13:52:32.187Z"
   },
   {
    "duration": 3,
    "start_time": "2022-06-19T13:52:38.787Z"
   },
   {
    "duration": 13,
    "start_time": "2022-06-19T13:52:40.284Z"
   },
   {
    "duration": 3,
    "start_time": "2022-06-19T13:52:51.863Z"
   },
   {
    "duration": 17,
    "start_time": "2022-06-19T13:52:52.408Z"
   },
   {
    "duration": 3,
    "start_time": "2022-06-19T13:53:18.219Z"
   },
   {
    "duration": 4,
    "start_time": "2022-06-19T13:53:19.019Z"
   },
   {
    "duration": 16,
    "start_time": "2022-06-19T13:53:19.638Z"
   },
   {
    "duration": 4,
    "start_time": "2022-06-19T13:53:29.443Z"
   },
   {
    "duration": 23,
    "start_time": "2022-06-19T13:53:29.784Z"
   },
   {
    "duration": 3,
    "start_time": "2022-06-19T13:54:00.179Z"
   },
   {
    "duration": 9,
    "start_time": "2022-06-19T13:54:05.595Z"
   },
   {
    "duration": 3,
    "start_time": "2022-06-19T13:54:26.187Z"
   },
   {
    "duration": 14,
    "start_time": "2022-06-19T13:54:30.298Z"
   },
   {
    "duration": 13,
    "start_time": "2022-06-19T13:54:33.767Z"
   },
   {
    "duration": 3,
    "start_time": "2022-06-19T13:54:45.439Z"
   },
   {
    "duration": 22,
    "start_time": "2022-06-19T13:54:45.871Z"
   },
   {
    "duration": 9,
    "start_time": "2022-06-19T13:57:08.776Z"
   },
   {
    "duration": 22,
    "start_time": "2022-06-19T13:57:10.271Z"
   },
   {
    "duration": 26,
    "start_time": "2022-06-19T13:57:30.351Z"
   },
   {
    "duration": 23,
    "start_time": "2022-06-19T14:01:08.156Z"
   },
   {
    "duration": 24,
    "start_time": "2022-06-19T14:01:08.602Z"
   },
   {
    "duration": 10,
    "start_time": "2022-06-19T14:01:13.137Z"
   },
   {
    "duration": 5,
    "start_time": "2022-06-19T14:01:27.082Z"
   },
   {
    "duration": 26,
    "start_time": "2022-06-19T14:01:28.967Z"
   },
   {
    "duration": 5,
    "start_time": "2022-06-19T14:01:29.792Z"
   },
   {
    "duration": 3,
    "start_time": "2022-06-19T14:01:30.441Z"
   },
   {
    "duration": 5,
    "start_time": "2022-06-19T14:02:26.084Z"
   },
   {
    "duration": 4,
    "start_time": "2022-06-19T14:02:35.476Z"
   },
   {
    "duration": 15,
    "start_time": "2022-06-19T14:02:49.741Z"
   },
   {
    "duration": 5,
    "start_time": "2022-06-19T14:04:12.003Z"
   },
   {
    "duration": 3,
    "start_time": "2022-06-19T14:05:08.539Z"
   },
   {
    "duration": 3,
    "start_time": "2022-06-19T14:05:09.481Z"
   },
   {
    "duration": 17,
    "start_time": "2022-06-19T14:05:09.963Z"
   },
   {
    "duration": 4,
    "start_time": "2022-06-19T14:05:21.306Z"
   },
   {
    "duration": 12,
    "start_time": "2022-06-19T14:05:21.760Z"
   },
   {
    "duration": 14,
    "start_time": "2022-06-19T14:06:25.494Z"
   },
   {
    "duration": 11,
    "start_time": "2022-06-19T14:06:31.752Z"
   },
   {
    "duration": 11,
    "start_time": "2022-06-19T14:06:43.676Z"
   },
   {
    "duration": 14,
    "start_time": "2022-06-19T14:06:49.276Z"
   },
   {
    "duration": 9,
    "start_time": "2022-06-19T14:07:25.412Z"
   },
   {
    "duration": 13,
    "start_time": "2022-06-19T14:07:32.156Z"
   },
   {
    "duration": 23,
    "start_time": "2022-06-19T14:08:44.329Z"
   },
   {
    "duration": 3,
    "start_time": "2022-06-19T14:09:06.096Z"
   },
   {
    "duration": 9,
    "start_time": "2022-06-19T14:09:12.166Z"
   },
   {
    "duration": 4,
    "start_time": "2022-06-19T14:09:24.721Z"
   },
   {
    "duration": 23,
    "start_time": "2022-06-19T14:09:25.413Z"
   },
   {
    "duration": 3,
    "start_time": "2022-06-19T14:09:54.501Z"
   },
   {
    "duration": 23,
    "start_time": "2022-06-19T14:09:55.101Z"
   },
   {
    "duration": 6,
    "start_time": "2022-06-19T14:10:23.319Z"
   },
   {
    "duration": 12,
    "start_time": "2022-06-19T14:10:53.500Z"
   },
   {
    "duration": 30,
    "start_time": "2022-06-19T14:11:01.765Z"
   },
   {
    "duration": 11,
    "start_time": "2022-06-19T14:11:02.048Z"
   },
   {
    "duration": 5,
    "start_time": "2022-06-19T14:11:11.666Z"
   },
   {
    "duration": 20,
    "start_time": "2022-06-19T14:11:14.416Z"
   },
   {
    "duration": 6,
    "start_time": "2022-06-19T14:11:16.404Z"
   },
   {
    "duration": 3,
    "start_time": "2022-06-19T14:11:49.960Z"
   },
   {
    "duration": 10,
    "start_time": "2022-06-19T14:11:55.563Z"
   },
   {
    "duration": 3,
    "start_time": "2022-06-19T14:12:16.805Z"
   },
   {
    "duration": 13,
    "start_time": "2022-06-19T14:12:17.231Z"
   },
   {
    "duration": 9,
    "start_time": "2022-06-19T14:12:23.361Z"
   },
   {
    "duration": 26,
    "start_time": "2022-06-19T14:12:35.310Z"
   },
   {
    "duration": 10,
    "start_time": "2022-06-19T14:12:35.678Z"
   },
   {
    "duration": 8,
    "start_time": "2022-06-19T14:12:36.968Z"
   },
   {
    "duration": 3,
    "start_time": "2022-06-19T14:12:37.577Z"
   },
   {
    "duration": 22,
    "start_time": "2022-06-19T14:12:38.616Z"
   },
   {
    "duration": 3,
    "start_time": "2022-06-19T14:13:03.009Z"
   },
   {
    "duration": 25,
    "start_time": "2022-06-19T14:13:03.636Z"
   },
   {
    "duration": 3,
    "start_time": "2022-06-19T14:13:25.913Z"
   },
   {
    "duration": 16,
    "start_time": "2022-06-19T14:13:26.509Z"
   },
   {
    "duration": 9,
    "start_time": "2022-06-19T14:13:38.413Z"
   },
   {
    "duration": 23,
    "start_time": "2022-06-19T14:16:16.458Z"
   },
   {
    "duration": 4,
    "start_time": "2022-06-19T14:16:20.531Z"
   },
   {
    "duration": 4,
    "start_time": "2022-06-19T14:16:24.239Z"
   },
   {
    "duration": 5,
    "start_time": "2022-06-19T14:16:28.932Z"
   },
   {
    "duration": 10,
    "start_time": "2022-06-19T14:16:38.622Z"
   },
   {
    "duration": 49,
    "start_time": "2022-06-19T14:20:06.751Z"
   },
   {
    "duration": 24,
    "start_time": "2022-06-19T14:20:27.533Z"
   },
   {
    "duration": 11,
    "start_time": "2022-06-19T14:20:48.963Z"
   },
   {
    "duration": 26,
    "start_time": "2022-06-19T14:21:00.205Z"
   },
   {
    "duration": 6,
    "start_time": "2022-06-19T14:21:01.273Z"
   },
   {
    "duration": 8,
    "start_time": "2022-06-19T14:21:06.221Z"
   },
   {
    "duration": 13,
    "start_time": "2022-06-19T14:21:12.821Z"
   },
   {
    "duration": 7,
    "start_time": "2022-06-19T14:21:18.501Z"
   },
   {
    "duration": 15,
    "start_time": "2022-06-19T14:21:22.529Z"
   },
   {
    "duration": 23,
    "start_time": "2022-06-19T14:21:35.504Z"
   },
   {
    "duration": 34,
    "start_time": "2022-06-19T14:21:49.032Z"
   },
   {
    "duration": 6,
    "start_time": "2022-06-19T14:22:09.804Z"
   },
   {
    "duration": 11,
    "start_time": "2022-06-19T14:22:14.110Z"
   },
   {
    "duration": 9,
    "start_time": "2022-06-19T14:22:19.039Z"
   },
   {
    "duration": 2,
    "start_time": "2022-06-19T14:22:47.941Z"
   },
   {
    "duration": 6,
    "start_time": "2022-06-19T14:23:08.667Z"
   },
   {
    "duration": 31,
    "start_time": "2022-06-19T14:23:27.369Z"
   },
   {
    "duration": 6,
    "start_time": "2022-06-19T14:23:30.734Z"
   },
   {
    "duration": 3,
    "start_time": "2022-06-19T14:23:32.957Z"
   },
   {
    "duration": 13,
    "start_time": "2022-06-19T14:23:56.731Z"
   },
   {
    "duration": 3,
    "start_time": "2022-06-19T14:24:04.106Z"
   },
   {
    "duration": 21,
    "start_time": "2022-06-19T14:24:04.504Z"
   },
   {
    "duration": 9,
    "start_time": "2022-06-19T14:24:24.715Z"
   },
   {
    "duration": 10,
    "start_time": "2022-06-19T14:24:30.956Z"
   },
   {
    "duration": 4,
    "start_time": "2022-06-19T14:24:33.807Z"
   },
   {
    "duration": 65,
    "start_time": "2022-06-19T14:24:56.831Z"
   },
   {
    "duration": 35,
    "start_time": "2022-06-19T14:25:07.967Z"
   },
   {
    "duration": 30,
    "start_time": "2022-06-19T14:25:09.562Z"
   },
   {
    "duration": 6,
    "start_time": "2022-06-19T14:25:10.309Z"
   },
   {
    "duration": 11,
    "start_time": "2022-06-19T14:25:34.860Z"
   },
   {
    "duration": 3,
    "start_time": "2022-06-19T14:25:51.193Z"
   },
   {
    "duration": 10,
    "start_time": "2022-06-19T14:25:51.427Z"
   },
   {
    "duration": 76,
    "start_time": "2022-06-19T14:25:51.720Z"
   },
   {
    "duration": 11,
    "start_time": "2022-06-19T14:25:51.956Z"
   },
   {
    "duration": 3,
    "start_time": "2022-06-19T14:25:52.207Z"
   },
   {
    "duration": 21,
    "start_time": "2022-06-19T14:25:52.476Z"
   },
   {
    "duration": 4,
    "start_time": "2022-06-19T14:25:52.738Z"
   },
   {
    "duration": 14,
    "start_time": "2022-06-19T14:26:43.908Z"
   },
   {
    "duration": 16,
    "start_time": "2022-06-19T14:27:00.111Z"
   },
   {
    "duration": 14,
    "start_time": "2022-06-19T14:27:24.024Z"
   },
   {
    "duration": 19,
    "start_time": "2022-06-19T14:27:30.573Z"
   },
   {
    "duration": 9,
    "start_time": "2022-06-19T14:27:49.683Z"
   },
   {
    "duration": 29,
    "start_time": "2022-06-19T14:28:40.361Z"
   },
   {
    "duration": 3,
    "start_time": "2022-06-19T14:28:46.118Z"
   },
   {
    "duration": 3,
    "start_time": "2022-06-19T14:29:08.221Z"
   },
   {
    "duration": 9,
    "start_time": "2022-06-19T14:29:09.861Z"
   },
   {
    "duration": 318,
    "start_time": "2022-06-19T14:29:16.176Z"
   },
   {
    "duration": 3,
    "start_time": "2022-06-19T14:29:49.421Z"
   },
   {
    "duration": 36,
    "start_time": "2022-06-19T14:29:50.157Z"
   },
   {
    "duration": 39,
    "start_time": "2022-06-19T14:32:31.559Z"
   },
   {
    "duration": 9,
    "start_time": "2022-06-19T14:35:56.661Z"
   },
   {
    "duration": 23,
    "start_time": "2022-06-19T14:36:01.121Z"
   },
   {
    "duration": 6,
    "start_time": "2022-06-19T14:36:01.521Z"
   },
   {
    "duration": 3,
    "start_time": "2022-06-19T14:36:35.128Z"
   },
   {
    "duration": 4,
    "start_time": "2022-06-19T14:36:48.917Z"
   },
   {
    "duration": 9,
    "start_time": "2022-06-19T14:37:09.301Z"
   },
   {
    "duration": 40,
    "start_time": "2022-06-19T14:37:49.063Z"
   },
   {
    "duration": 32,
    "start_time": "2022-06-19T14:38:09.713Z"
   },
   {
    "duration": 25,
    "start_time": "2022-06-19T14:38:18.413Z"
   },
   {
    "duration": 31,
    "start_time": "2022-06-19T14:38:21.957Z"
   },
   {
    "duration": 5,
    "start_time": "2022-06-19T14:38:24.956Z"
   },
   {
    "duration": 372,
    "start_time": "2022-06-19T14:38:25.318Z"
   },
   {
    "duration": 10,
    "start_time": "2022-06-19T14:38:26.153Z"
   },
   {
    "duration": 16,
    "start_time": "2022-06-19T14:38:28.022Z"
   },
   {
    "duration": 61,
    "start_time": "2022-06-19T14:38:28.958Z"
   },
   {
    "duration": 47,
    "start_time": "2022-06-19T14:38:32.566Z"
   },
   {
    "duration": 10,
    "start_time": "2022-06-19T14:38:46.813Z"
   },
   {
    "duration": 41,
    "start_time": "2022-06-19T14:38:51.328Z"
   },
   {
    "duration": 46,
    "start_time": "2022-06-19T14:38:54.685Z"
   },
   {
    "duration": 55,
    "start_time": "2022-06-19T14:38:56.952Z"
   },
   {
    "duration": 10,
    "start_time": "2022-06-19T14:39:23.620Z"
   },
   {
    "duration": 3,
    "start_time": "2022-06-19T14:39:47.756Z"
   },
   {
    "duration": 10,
    "start_time": "2022-06-19T14:39:48.152Z"
   },
   {
    "duration": 3,
    "start_time": "2022-06-19T14:40:20.261Z"
   },
   {
    "duration": 9,
    "start_time": "2022-06-19T14:40:21.423Z"
   },
   {
    "duration": 3,
    "start_time": "2022-06-19T14:40:31.873Z"
   },
   {
    "duration": 3,
    "start_time": "2022-06-19T14:40:54.266Z"
   },
   {
    "duration": 3,
    "start_time": "2022-06-19T14:41:11.956Z"
   },
   {
    "duration": 9,
    "start_time": "2022-06-19T14:41:12.651Z"
   },
   {
    "duration": 26,
    "start_time": "2022-06-19T14:41:26.339Z"
   },
   {
    "duration": 10,
    "start_time": "2022-06-19T14:41:28.963Z"
   },
   {
    "duration": 3,
    "start_time": "2022-06-19T14:43:17.901Z"
   },
   {
    "duration": 11,
    "start_time": "2022-06-19T14:43:18.364Z"
   },
   {
    "duration": 3,
    "start_time": "2022-06-19T14:43:39.530Z"
   },
   {
    "duration": 18,
    "start_time": "2022-06-19T14:43:40.300Z"
   },
   {
    "duration": 4,
    "start_time": "2022-06-19T14:43:43.628Z"
   },
   {
    "duration": 11,
    "start_time": "2022-06-19T14:43:44.136Z"
   },
   {
    "duration": 48,
    "start_time": "2022-06-19T14:43:56.402Z"
   },
   {
    "duration": 3,
    "start_time": "2022-06-19T14:43:56.761Z"
   },
   {
    "duration": 5,
    "start_time": "2022-06-19T14:44:11.259Z"
   },
   {
    "duration": 376,
    "start_time": "2022-06-19T14:44:11.755Z"
   },
   {
    "duration": 9,
    "start_time": "2022-06-19T14:44:12.133Z"
   },
   {
    "duration": 18,
    "start_time": "2022-06-19T14:44:12.143Z"
   },
   {
    "duration": 57,
    "start_time": "2022-06-19T14:44:12.163Z"
   },
   {
    "duration": 12,
    "start_time": "2022-06-19T14:44:12.221Z"
   },
   {
    "duration": 9,
    "start_time": "2022-06-19T14:44:12.235Z"
   },
   {
    "duration": 3,
    "start_time": "2022-06-19T14:44:12.254Z"
   },
   {
    "duration": 9,
    "start_time": "2022-06-19T14:44:12.326Z"
   },
   {
    "duration": 390,
    "start_time": "2022-06-19T14:44:12.411Z"
   },
   {
    "duration": 91,
    "start_time": "2022-06-19T14:44:12.804Z"
   },
   {
    "duration": 104,
    "start_time": "2022-06-19T14:44:12.898Z"
   },
   {
    "duration": 94,
    "start_time": "2022-06-19T14:44:13.004Z"
   },
   {
    "duration": 7,
    "start_time": "2022-06-19T14:44:13.101Z"
   },
   {
    "duration": 6,
    "start_time": "2022-06-19T14:44:13.195Z"
   },
   {
    "duration": 18,
    "start_time": "2022-06-19T14:44:13.202Z"
   },
   {
    "duration": 9,
    "start_time": "2022-06-19T14:44:25.719Z"
   },
   {
    "duration": 409,
    "start_time": "2022-06-19T14:44:26.991Z"
   },
   {
    "duration": 3,
    "start_time": "2022-06-19T14:44:27.663Z"
   },
   {
    "duration": 10,
    "start_time": "2022-06-19T14:44:28.410Z"
   },
   {
    "duration": 22,
    "start_time": "2022-06-19T14:44:29.214Z"
   },
   {
    "duration": 3,
    "start_time": "2022-06-19T14:44:29.813Z"
   },
   {
    "duration": 4,
    "start_time": "2022-06-19T14:44:30.255Z"
   },
   {
    "duration": 9,
    "start_time": "2022-06-19T14:44:30.763Z"
   },
   {
    "duration": 4,
    "start_time": "2022-06-19T14:45:24.701Z"
   },
   {
    "duration": 4,
    "start_time": "2022-06-19T14:45:34.469Z"
   },
   {
    "duration": 10,
    "start_time": "2022-06-19T14:45:34.979Z"
   },
   {
    "duration": 3,
    "start_time": "2022-06-19T14:47:26.202Z"
   },
   {
    "duration": 9,
    "start_time": "2022-06-19T14:47:26.758Z"
   },
   {
    "duration": 3,
    "start_time": "2022-06-19T14:49:00.631Z"
   },
   {
    "duration": 8,
    "start_time": "2022-06-19T14:49:01.525Z"
   },
   {
    "duration": 11,
    "start_time": "2022-06-19T14:49:08.927Z"
   },
   {
    "duration": 4,
    "start_time": "2022-06-19T14:49:09.659Z"
   },
   {
    "duration": 20,
    "start_time": "2022-06-19T14:51:22.383Z"
   },
   {
    "duration": 23,
    "start_time": "2022-06-19T14:51:30.834Z"
   },
   {
    "duration": 10,
    "start_time": "2022-06-19T14:51:50.568Z"
   },
   {
    "duration": 22,
    "start_time": "2022-06-19T14:52:00.404Z"
   },
   {
    "duration": 26,
    "start_time": "2022-06-19T14:52:02.422Z"
   },
   {
    "duration": 9,
    "start_time": "2022-06-19T14:52:04.527Z"
   },
   {
    "duration": 12,
    "start_time": "2022-06-19T14:52:06.061Z"
   },
   {
    "duration": 9,
    "start_time": "2022-06-19T14:52:09.508Z"
   },
   {
    "duration": 9,
    "start_time": "2022-06-19T14:52:16.851Z"
   },
   {
    "duration": 10,
    "start_time": "2022-06-19T14:52:21.787Z"
   },
   {
    "duration": 9,
    "start_time": "2022-06-19T14:52:35.361Z"
   },
   {
    "duration": 28,
    "start_time": "2022-06-19T14:52:45.048Z"
   },
   {
    "duration": 9,
    "start_time": "2022-06-19T14:52:46.961Z"
   },
   {
    "duration": 10,
    "start_time": "2022-06-19T14:52:48.455Z"
   },
   {
    "duration": 10,
    "start_time": "2022-06-19T14:52:48.935Z"
   },
   {
    "duration": 4,
    "start_time": "2022-06-19T15:04:30.311Z"
   },
   {
    "duration": 3,
    "start_time": "2022-06-19T15:04:38.563Z"
   },
   {
    "duration": 4,
    "start_time": "2022-06-19T15:04:39.375Z"
   },
   {
    "duration": 15,
    "start_time": "2022-06-19T15:04:50.011Z"
   },
   {
    "duration": 5,
    "start_time": "2022-06-19T15:05:15.433Z"
   },
   {
    "duration": 15,
    "start_time": "2022-06-19T15:05:16.107Z"
   },
   {
    "duration": 5,
    "start_time": "2022-06-19T15:05:22.832Z"
   },
   {
    "duration": 16,
    "start_time": "2022-06-19T15:05:23.406Z"
   },
   {
    "duration": 5,
    "start_time": "2022-06-19T15:05:33.843Z"
   },
   {
    "duration": 378,
    "start_time": "2022-06-19T15:05:34.371Z"
   },
   {
    "duration": 10,
    "start_time": "2022-06-19T15:05:34.751Z"
   },
   {
    "duration": 19,
    "start_time": "2022-06-19T15:05:34.763Z"
   },
   {
    "duration": 52,
    "start_time": "2022-06-19T15:05:34.784Z"
   },
   {
    "duration": 13,
    "start_time": "2022-06-19T15:05:34.838Z"
   },
   {
    "duration": 8,
    "start_time": "2022-06-19T15:05:34.853Z"
   },
   {
    "duration": 10,
    "start_time": "2022-06-19T15:05:34.863Z"
   },
   {
    "duration": 8,
    "start_time": "2022-06-19T15:05:34.935Z"
   },
   {
    "duration": 269,
    "start_time": "2022-06-19T15:05:35.039Z"
   },
   {
    "duration": 85,
    "start_time": "2022-06-19T15:05:35.310Z"
   },
   {
    "duration": 109,
    "start_time": "2022-06-19T15:05:35.398Z"
   },
   {
    "duration": 26,
    "start_time": "2022-06-19T15:05:35.510Z"
   },
   {
    "duration": 170,
    "start_time": "2022-06-19T15:05:35.538Z"
   },
   {
    "duration": 96,
    "start_time": "2022-06-19T15:05:35.711Z"
   },
   {
    "duration": 3,
    "start_time": "2022-06-19T15:05:36.447Z"
   },
   {
    "duration": 10,
    "start_time": "2022-06-19T15:05:36.866Z"
   },
   {
    "duration": 9,
    "start_time": "2022-06-19T15:05:37.063Z"
   },
   {
    "duration": 10,
    "start_time": "2022-06-19T15:05:37.223Z"
   },
   {
    "duration": 3,
    "start_time": "2022-06-19T15:05:37.403Z"
   },
   {
    "duration": 5,
    "start_time": "2022-06-19T15:05:37.567Z"
   },
   {
    "duration": 16,
    "start_time": "2022-06-19T15:05:37.751Z"
   },
   {
    "duration": 14,
    "start_time": "2022-06-19T15:05:41.579Z"
   },
   {
    "duration": 5,
    "start_time": "2022-06-19T15:05:44.703Z"
   },
   {
    "duration": 14,
    "start_time": "2022-06-19T15:05:45.228Z"
   },
   {
    "duration": 6,
    "start_time": "2022-06-19T15:05:59.110Z"
   },
   {
    "duration": 365,
    "start_time": "2022-06-19T15:05:59.608Z"
   },
   {
    "duration": 9,
    "start_time": "2022-06-19T15:05:59.975Z"
   },
   {
    "duration": 15,
    "start_time": "2022-06-19T15:05:59.994Z"
   },
   {
    "duration": 51,
    "start_time": "2022-06-19T15:06:00.011Z"
   },
   {
    "duration": 31,
    "start_time": "2022-06-19T15:06:00.064Z"
   },
   {
    "duration": 16,
    "start_time": "2022-06-19T15:06:00.097Z"
   },
   {
    "duration": 15,
    "start_time": "2022-06-19T15:06:00.115Z"
   },
   {
    "duration": 10,
    "start_time": "2022-06-19T15:06:00.203Z"
   },
   {
    "duration": 438,
    "start_time": "2022-06-19T15:06:00.266Z"
   },
   {
    "duration": 5,
    "start_time": "2022-06-19T15:06:00.795Z"
   },
   {
    "duration": 98,
    "start_time": "2022-06-19T15:06:00.803Z"
   },
   {
    "duration": 62,
    "start_time": "2022-06-19T15:06:00.902Z"
   },
   {
    "duration": 158,
    "start_time": "2022-06-19T15:06:00.966Z"
   },
   {
    "duration": 176,
    "start_time": "2022-06-19T15:06:01.127Z"
   },
   {
    "duration": 190,
    "start_time": "2022-06-19T15:06:01.306Z"
   },
   {
    "duration": 37,
    "start_time": "2022-06-19T15:06:01.497Z"
   },
   {
    "duration": 27,
    "start_time": "2022-06-19T15:06:01.537Z"
   },
   {
    "duration": 21,
    "start_time": "2022-06-19T15:06:01.566Z"
   },
   {
    "duration": 13,
    "start_time": "2022-06-19T15:06:01.589Z"
   },
   {
    "duration": 25,
    "start_time": "2022-06-19T15:06:01.603Z"
   },
   {
    "duration": 22,
    "start_time": "2022-06-19T15:06:01.629Z"
   },
   {
    "duration": 1358,
    "start_time": "2022-06-19T15:06:11.631Z"
   },
   {
    "duration": 389,
    "start_time": "2022-06-19T15:06:12.991Z"
   },
   {
    "duration": 15,
    "start_time": "2022-06-19T15:06:13.382Z"
   },
   {
    "duration": 15,
    "start_time": "2022-06-19T15:06:13.399Z"
   },
   {
    "duration": 48,
    "start_time": "2022-06-19T15:06:13.416Z"
   },
   {
    "duration": 34,
    "start_time": "2022-06-19T15:06:13.466Z"
   },
   {
    "duration": 6,
    "start_time": "2022-06-19T15:06:13.502Z"
   },
   {
    "duration": 22,
    "start_time": "2022-06-19T15:06:13.509Z"
   },
   {
    "duration": 14,
    "start_time": "2022-06-19T15:06:13.533Z"
   },
   {
    "duration": 365,
    "start_time": "2022-06-19T15:06:13.549Z"
   },
   {
    "duration": 84,
    "start_time": "2022-06-19T15:06:13.916Z"
   },
   {
    "duration": 106,
    "start_time": "2022-06-19T15:06:14.002Z"
   },
   {
    "duration": 89,
    "start_time": "2022-06-19T15:06:14.110Z"
   },
   {
    "duration": 111,
    "start_time": "2022-06-19T15:06:14.202Z"
   },
   {
    "duration": 194,
    "start_time": "2022-06-19T15:06:14.316Z"
   },
   {
    "duration": 81,
    "start_time": "2022-06-19T15:06:14.513Z"
   },
   {
    "duration": 110,
    "start_time": "2022-06-19T15:06:14.597Z"
   },
   {
    "duration": 8,
    "start_time": "2022-06-19T15:06:14.709Z"
   },
   {
    "duration": 9,
    "start_time": "2022-06-19T15:06:14.719Z"
   },
   {
    "duration": 3,
    "start_time": "2022-06-19T15:06:14.729Z"
   },
   {
    "duration": 6,
    "start_time": "2022-06-19T15:06:14.733Z"
   },
   {
    "duration": 144,
    "start_time": "2022-06-19T15:06:14.740Z"
   },
   {
    "duration": 5,
    "start_time": "2022-06-19T15:06:44.812Z"
   },
   {
    "duration": 1265,
    "start_time": "2022-06-19T15:06:45.367Z"
   },
   {
    "duration": 5,
    "start_time": "2022-06-19T15:07:10.462Z"
   },
   {
    "duration": 1291,
    "start_time": "2022-06-19T15:07:10.928Z"
   },
   {
    "duration": 10,
    "start_time": "2022-06-19T15:07:35.291Z"
   },
   {
    "duration": 1253,
    "start_time": "2022-06-19T15:07:39.474Z"
   },
   {
    "duration": 1295,
    "start_time": "2022-06-19T15:07:42.466Z"
   },
   {
    "duration": 13,
    "start_time": "2022-06-19T15:07:52.458Z"
   },
   {
    "duration": 28,
    "start_time": "2022-06-19T15:08:42.062Z"
   },
   {
    "duration": 4,
    "start_time": "2022-06-19T15:08:52.628Z"
   },
   {
    "duration": 1251,
    "start_time": "2022-06-19T15:08:53.217Z"
   },
   {
    "duration": 4,
    "start_time": "2022-06-19T15:09:12.865Z"
   },
   {
    "duration": 1294,
    "start_time": "2022-06-19T15:09:13.520Z"
   },
   {
    "duration": 5,
    "start_time": "2022-06-19T15:09:34.332Z"
   },
   {
    "duration": 1242,
    "start_time": "2022-06-19T15:09:34.858Z"
   },
   {
    "duration": 1256,
    "start_time": "2022-06-19T15:09:39.315Z"
   },
   {
    "duration": 1264,
    "start_time": "2022-06-19T15:09:45.067Z"
   },
   {
    "duration": 1623,
    "start_time": "2022-06-20T09:09:43.548Z"
   },
   {
    "duration": 1595,
    "start_time": "2022-06-20T09:09:45.173Z"
   },
   {
    "duration": 11,
    "start_time": "2022-06-20T09:09:51.066Z"
   },
   {
    "duration": 21,
    "start_time": "2022-06-20T09:09:51.696Z"
   },
   {
    "duration": 41,
    "start_time": "2022-06-20T09:09:52.060Z"
   },
   {
    "duration": 13,
    "start_time": "2022-06-20T09:09:52.324Z"
   },
   {
    "duration": 5,
    "start_time": "2022-06-20T09:09:52.556Z"
   },
   {
    "duration": 4,
    "start_time": "2022-06-20T09:09:52.762Z"
   },
   {
    "duration": 8,
    "start_time": "2022-06-20T09:09:52.975Z"
   },
   {
    "duration": 264,
    "start_time": "2022-06-20T09:09:53.190Z"
   },
   {
    "duration": 5,
    "start_time": "2022-06-20T09:09:53.534Z"
   },
   {
    "duration": 8,
    "start_time": "2022-06-20T09:09:53.646Z"
   },
   {
    "duration": 22,
    "start_time": "2022-06-20T09:09:53.871Z"
   },
   {
    "duration": 22,
    "start_time": "2022-06-20T09:09:54.084Z"
   },
   {
    "duration": 32,
    "start_time": "2022-06-20T09:09:54.328Z"
   },
   {
    "duration": 4,
    "start_time": "2022-06-20T09:09:54.545Z"
   },
   {
    "duration": 9,
    "start_time": "2022-06-20T09:09:54.960Z"
   },
   {
    "duration": 4,
    "start_time": "2022-06-20T09:16:34.857Z"
   },
   {
    "duration": 115,
    "start_time": "2022-06-20T09:16:35.248Z"
   },
   {
    "duration": 3,
    "start_time": "2022-06-20T09:16:39.764Z"
   },
   {
    "duration": 5,
    "start_time": "2022-06-20T09:16:40.291Z"
   },
   {
    "duration": 1188,
    "start_time": "2022-06-20T09:16:40.707Z"
   },
   {
    "duration": 1151,
    "start_time": "2022-06-20T09:16:44.370Z"
   },
   {
    "duration": 1202,
    "start_time": "2022-06-20T09:16:46.260Z"
   },
   {
    "duration": 77,
    "start_time": "2022-06-20T09:18:00.317Z"
   },
   {
    "duration": 1163,
    "start_time": "2022-06-20T09:18:00.846Z"
   },
   {
    "duration": 4,
    "start_time": "2022-06-20T09:18:06.331Z"
   },
   {
    "duration": 1125,
    "start_time": "2022-06-20T09:18:07.138Z"
   },
   {
    "duration": 5,
    "start_time": "2022-06-20T09:18:21.393Z"
   },
   {
    "duration": 1138,
    "start_time": "2022-06-20T09:18:24.210Z"
   },
   {
    "duration": 4,
    "start_time": "2022-06-20T09:19:32.548Z"
   },
   {
    "duration": 1199,
    "start_time": "2022-06-20T09:19:33.137Z"
   },
   {
    "duration": 4,
    "start_time": "2022-06-20T09:20:31.419Z"
   },
   {
    "duration": 1262,
    "start_time": "2022-06-20T09:20:31.787Z"
   },
   {
    "duration": 4,
    "start_time": "2022-06-20T09:20:39.680Z"
   },
   {
    "duration": 1138,
    "start_time": "2022-06-20T09:20:40.587Z"
   },
   {
    "duration": 4,
    "start_time": "2022-06-20T09:20:48.607Z"
   },
   {
    "duration": 1158,
    "start_time": "2022-06-20T09:20:49.139Z"
   },
   {
    "duration": 1122,
    "start_time": "2022-06-20T09:20:54.420Z"
   },
   {
    "duration": 1133,
    "start_time": "2022-06-20T09:20:56.743Z"
   },
   {
    "duration": 5,
    "start_time": "2022-06-20T09:21:17.384Z"
   },
   {
    "duration": 1240,
    "start_time": "2022-06-20T09:21:17.809Z"
   },
   {
    "duration": 4,
    "start_time": "2022-06-20T09:23:46.243Z"
   },
   {
    "duration": 1129,
    "start_time": "2022-06-20T09:23:46.873Z"
   },
   {
    "duration": 1293,
    "start_time": "2022-06-20T09:24:17.022Z"
   },
   {
    "duration": 6,
    "start_time": "2022-06-20T09:24:40.910Z"
   },
   {
    "duration": 1120,
    "start_time": "2022-06-20T09:24:41.807Z"
   },
   {
    "duration": 5,
    "start_time": "2022-06-20T09:24:47.565Z"
   },
   {
    "duration": 1123,
    "start_time": "2022-06-20T09:24:47.981Z"
   },
   {
    "duration": 5,
    "start_time": "2022-06-20T09:24:50.372Z"
   },
   {
    "duration": 1148,
    "start_time": "2022-06-20T09:24:50.774Z"
   },
   {
    "duration": 5,
    "start_time": "2022-06-20T09:24:53.086Z"
   },
   {
    "duration": 1148,
    "start_time": "2022-06-20T09:24:53.473Z"
   },
   {
    "duration": 4,
    "start_time": "2022-06-20T09:24:55.747Z"
   },
   {
    "duration": 1178,
    "start_time": "2022-06-20T09:24:56.082Z"
   },
   {
    "duration": 4,
    "start_time": "2022-06-20T09:25:44.831Z"
   },
   {
    "duration": 1258,
    "start_time": "2022-06-20T09:25:45.247Z"
   },
   {
    "duration": 4,
    "start_time": "2022-06-20T09:25:50.085Z"
   },
   {
    "duration": 1152,
    "start_time": "2022-06-20T09:25:50.381Z"
   },
   {
    "duration": 8,
    "start_time": "2022-06-20T09:25:52.541Z"
   },
   {
    "duration": 1232,
    "start_time": "2022-06-20T09:25:52.841Z"
   },
   {
    "duration": 1106,
    "start_time": "2022-06-20T09:26:49.500Z"
   },
   {
    "duration": 1178,
    "start_time": "2022-06-20T09:26:52.645Z"
   },
   {
    "duration": 1147,
    "start_time": "2022-06-20T09:26:56.194Z"
   },
   {
    "duration": 1150,
    "start_time": "2022-06-20T09:26:57.342Z"
   },
   {
    "duration": 1154,
    "start_time": "2022-06-20T09:26:59.966Z"
   },
   {
    "duration": 1187,
    "start_time": "2022-06-20T09:27:01.122Z"
   },
   {
    "duration": 9,
    "start_time": "2022-06-20T11:35:48.509Z"
   },
   {
    "duration": 11,
    "start_time": "2022-06-20T11:35:52.595Z"
   },
   {
    "duration": 30,
    "start_time": "2022-06-20T11:35:55.791Z"
   },
   {
    "duration": 8,
    "start_time": "2022-06-20T12:43:01.747Z"
   },
   {
    "duration": 8,
    "start_time": "2022-06-20T12:43:09.800Z"
   },
   {
    "duration": 20,
    "start_time": "2022-06-20T12:43:26.466Z"
   },
   {
    "duration": 19,
    "start_time": "2022-06-20T12:43:26.911Z"
   },
   {
    "duration": 18,
    "start_time": "2022-06-20T12:43:27.300Z"
   },
   {
    "duration": 2,
    "start_time": "2022-06-20T12:43:27.617Z"
   },
   {
    "duration": 8,
    "start_time": "2022-06-20T12:43:27.967Z"
   },
   {
    "duration": 8,
    "start_time": "2022-06-20T12:43:28.302Z"
   },
   {
    "duration": 8,
    "start_time": "2022-06-20T12:43:28.629Z"
   },
   {
    "duration": 2,
    "start_time": "2022-06-20T12:43:28.905Z"
   },
   {
    "duration": 4,
    "start_time": "2022-06-20T12:43:29.152Z"
   },
   {
    "duration": 1128,
    "start_time": "2022-06-20T12:43:29.427Z"
   },
   {
    "duration": 0,
    "start_time": "2022-06-20T12:43:30.556Z"
   },
   {
    "duration": 0,
    "start_time": "2022-06-20T12:43:30.557Z"
   },
   {
    "duration": 5,
    "start_time": "2022-06-20T12:43:38.877Z"
   },
   {
    "duration": 1110,
    "start_time": "2022-06-20T12:43:39.285Z"
   },
   {
    "duration": 22,
    "start_time": "2022-06-20T12:43:53.833Z"
   },
   {
    "duration": 22,
    "start_time": "2022-06-20T12:43:54.340Z"
   },
   {
    "duration": 107,
    "start_time": "2022-06-20T12:43:54.432Z"
   },
   {
    "duration": 190,
    "start_time": "2022-06-20T12:43:54.542Z"
   },
   {
    "duration": 25,
    "start_time": "2022-06-20T12:43:54.733Z"
   },
   {
    "duration": 8,
    "start_time": "2022-06-20T12:43:54.759Z"
   },
   {
    "duration": 7,
    "start_time": "2022-06-20T12:43:54.769Z"
   },
   {
    "duration": 4,
    "start_time": "2022-06-20T12:43:54.841Z"
   },
   {
    "duration": 5,
    "start_time": "2022-06-20T12:43:54.914Z"
   },
   {
    "duration": 1285,
    "start_time": "2022-06-20T12:43:54.998Z"
   },
   {
    "duration": 0,
    "start_time": "2022-06-20T12:43:56.284Z"
   },
   {
    "duration": 7,
    "start_time": "2022-06-20T12:44:08.767Z"
   },
   {
    "duration": 1267,
    "start_time": "2022-06-20T12:44:09.027Z"
   },
   {
    "duration": 6,
    "start_time": "2022-06-20T12:44:31.487Z"
   },
   {
    "duration": 1378,
    "start_time": "2022-06-20T12:44:31.742Z"
   },
   {
    "duration": 1275,
    "start_time": "2022-06-20T12:44:33.122Z"
   },
   {
    "duration": 1240,
    "start_time": "2022-06-20T12:44:34.398Z"
   },
   {
    "duration": 7,
    "start_time": "2022-06-20T12:45:15.626Z"
   },
   {
    "duration": 1385,
    "start_time": "2022-06-20T12:45:16.044Z"
   },
   {
    "duration": 1332,
    "start_time": "2022-06-20T12:45:17.431Z"
   },
   {
    "duration": 1224,
    "start_time": "2022-06-20T12:45:18.765Z"
   },
   {
    "duration": 10,
    "start_time": "2022-06-20T12:50:11.829Z"
   },
   {
    "duration": 719,
    "start_time": "2022-06-20T12:50:12.062Z"
   },
   {
    "duration": 8,
    "start_time": "2022-06-20T12:50:12.783Z"
   },
   {
    "duration": 17,
    "start_time": "2022-06-20T12:50:12.792Z"
   },
   {
    "duration": 57,
    "start_time": "2022-06-20T12:50:12.811Z"
   },
   {
    "duration": 11,
    "start_time": "2022-06-20T12:50:13.194Z"
   },
   {
    "duration": 39,
    "start_time": "2022-06-20T12:50:13.604Z"
   },
   {
    "duration": 27,
    "start_time": "2022-06-20T12:50:14.356Z"
   },
   {
    "duration": 27,
    "start_time": "2022-06-20T12:50:14.745Z"
   },
   {
    "duration": 5,
    "start_time": "2022-06-20T12:50:16.882Z"
   },
   {
    "duration": 6,
    "start_time": "2022-06-20T12:51:45.861Z"
   },
   {
    "duration": 3,
    "start_time": "2022-06-20T12:53:59.764Z"
   },
   {
    "duration": 9,
    "start_time": "2022-06-20T12:54:32.396Z"
   },
   {
    "duration": 19,
    "start_time": "2022-06-20T12:54:56.042Z"
   },
   {
    "duration": 67,
    "start_time": "2022-06-20T16:36:55.396Z"
   },
   {
    "duration": 1904,
    "start_time": "2022-06-20T16:36:58.777Z"
   },
   {
    "duration": 2139,
    "start_time": "2022-06-20T16:37:00.683Z"
   },
   {
    "duration": 13,
    "start_time": "2022-06-20T16:37:02.824Z"
   },
   {
    "duration": 40,
    "start_time": "2022-06-20T16:37:02.839Z"
   },
   {
    "duration": 48,
    "start_time": "2022-06-20T16:37:02.881Z"
   },
   {
    "duration": 17,
    "start_time": "2022-06-20T16:37:02.931Z"
   },
   {
    "duration": 119,
    "start_time": "2022-06-20T16:37:02.950Z"
   },
   {
    "duration": 118,
    "start_time": "2022-06-20T16:37:03.072Z"
   },
   {
    "duration": 109,
    "start_time": "2022-06-20T16:37:03.253Z"
   },
   {
    "duration": 205,
    "start_time": "2022-06-20T16:37:03.365Z"
   },
   {
    "duration": 0,
    "start_time": "2022-06-20T16:37:03.572Z"
   },
   {
    "duration": 0,
    "start_time": "2022-06-20T16:37:03.573Z"
   },
   {
    "duration": 0,
    "start_time": "2022-06-20T16:37:03.574Z"
   },
   {
    "duration": 0,
    "start_time": "2022-06-20T16:37:03.576Z"
   },
   {
    "duration": 5,
    "start_time": "2022-06-20T16:37:10.125Z"
   },
   {
    "duration": 3,
    "start_time": "2022-06-20T16:37:10.675Z"
   },
   {
    "duration": 12,
    "start_time": "2022-06-20T16:37:11.370Z"
   },
   {
    "duration": 96,
    "start_time": "2022-06-20T16:37:12.101Z"
   },
   {
    "duration": 5,
    "start_time": "2022-06-20T16:37:19.571Z"
   },
   {
    "duration": 11,
    "start_time": "2022-06-20T16:37:22.270Z"
   },
   {
    "duration": 11,
    "start_time": "2022-06-20T16:37:23.172Z"
   },
   {
    "duration": 113,
    "start_time": "2022-06-20T16:37:33.876Z"
   },
   {
    "duration": 2,
    "start_time": "2022-06-20T16:37:37.635Z"
   },
   {
    "duration": 5,
    "start_time": "2022-06-20T16:37:38.071Z"
   },
   {
    "duration": 4,
    "start_time": "2022-06-20T16:37:38.426Z"
   },
   {
    "duration": 16,
    "start_time": "2022-06-20T16:37:38.740Z"
   },
   {
    "duration": 13,
    "start_time": "2022-06-20T16:37:39.073Z"
   },
   {
    "duration": 14,
    "start_time": "2022-06-20T16:37:42.470Z"
   },
   {
    "duration": 1603,
    "start_time": "2022-06-21T06:07:14.580Z"
   },
   {
    "duration": 1569,
    "start_time": "2022-06-21T06:07:16.185Z"
   },
   {
    "duration": 14,
    "start_time": "2022-06-21T06:07:17.756Z"
   },
   {
    "duration": 69,
    "start_time": "2022-06-21T06:07:17.772Z"
   },
   {
    "duration": 57,
    "start_time": "2022-06-21T06:07:17.842Z"
   },
   {
    "duration": 15,
    "start_time": "2022-06-21T06:07:17.901Z"
   },
   {
    "duration": 107,
    "start_time": "2022-06-21T06:07:17.926Z"
   },
   {
    "duration": 199,
    "start_time": "2022-06-21T06:07:18.035Z"
   },
   {
    "duration": 203,
    "start_time": "2022-06-21T06:07:18.237Z"
   },
   {
    "duration": 2,
    "start_time": "2022-06-21T06:07:18.730Z"
   },
   {
    "duration": 5,
    "start_time": "2022-06-21T06:07:19.372Z"
   },
   {
    "duration": 3,
    "start_time": "2022-06-21T06:07:19.927Z"
   },
   {
    "duration": 11,
    "start_time": "2022-06-21T06:07:20.522Z"
   },
   {
    "duration": 8,
    "start_time": "2022-06-21T06:07:21.166Z"
   },
   {
    "duration": 3,
    "start_time": "2022-06-21T06:07:24.401Z"
   },
   {
    "duration": 11,
    "start_time": "2022-06-21T06:07:26.043Z"
   },
   {
    "duration": 4,
    "start_time": "2022-06-21T06:07:26.728Z"
   },
   {
    "duration": 9,
    "start_time": "2022-06-21T06:09:33.288Z"
   },
   {
    "duration": 11,
    "start_time": "2022-06-21T06:09:33.761Z"
   },
   {
    "duration": 9,
    "start_time": "2022-06-21T06:09:34.387Z"
   },
   {
    "duration": 11,
    "start_time": "2022-06-21T06:09:39.278Z"
   },
   {
    "duration": 12,
    "start_time": "2022-06-21T06:09:39.757Z"
   },
   {
    "duration": 10,
    "start_time": "2022-06-21T06:09:40.337Z"
   },
   {
    "duration": 9,
    "start_time": "2022-06-21T06:17:24.174Z"
   },
   {
    "duration": 199,
    "start_time": "2022-06-21T06:17:26.496Z"
   },
   {
    "duration": 4,
    "start_time": "2022-06-21T06:17:29.849Z"
   },
   {
    "duration": 6,
    "start_time": "2022-06-21T06:17:30.139Z"
   },
   {
    "duration": 1516,
    "start_time": "2022-06-21T06:17:30.514Z"
   },
   {
    "duration": 7,
    "start_time": "2022-06-21T06:17:45.097Z"
   },
   {
    "duration": 1613,
    "start_time": "2022-06-21T06:17:45.500Z"
   },
   {
    "duration": 1478,
    "start_time": "2022-06-21T06:17:50.974Z"
   },
   {
    "duration": 1414,
    "start_time": "2022-06-21T06:17:53.967Z"
   },
   {
    "duration": 5,
    "start_time": "2022-06-21T06:25:58.648Z"
   },
   {
    "duration": 1426,
    "start_time": "2022-06-21T06:25:59.488Z"
   },
   {
    "duration": 6,
    "start_time": "2022-06-21T06:26:04.300Z"
   },
   {
    "duration": 1347,
    "start_time": "2022-06-21T06:26:04.658Z"
   },
   {
    "duration": 5,
    "start_time": "2022-06-21T06:26:07.880Z"
   },
   {
    "duration": 1375,
    "start_time": "2022-06-21T06:26:08.223Z"
   },
   {
    "duration": 1458,
    "start_time": "2022-06-21T06:26:10.312Z"
   },
   {
    "duration": 1408,
    "start_time": "2022-06-21T06:26:12.351Z"
   },
   {
    "duration": 7,
    "start_time": "2022-06-21T06:26:34.409Z"
   },
   {
    "duration": 1495,
    "start_time": "2022-06-21T06:26:34.767Z"
   },
   {
    "duration": 1592,
    "start_time": "2022-06-21T06:26:39.258Z"
   },
   {
    "duration": 2027,
    "start_time": "2022-06-21T06:26:41.901Z"
   },
   {
    "duration": 5,
    "start_time": "2022-06-21T06:27:03.859Z"
   },
   {
    "duration": 1329,
    "start_time": "2022-06-21T06:27:04.550Z"
   },
   {
    "duration": 1445,
    "start_time": "2022-06-21T06:27:05.882Z"
   },
   {
    "duration": 1324,
    "start_time": "2022-06-21T06:27:07.329Z"
   },
   {
    "duration": 15,
    "start_time": "2022-06-21T06:28:55.320Z"
   },
   {
    "duration": 1450,
    "start_time": "2022-06-21T06:28:56.034Z"
   },
   {
    "duration": 8,
    "start_time": "2022-06-21T06:29:28.797Z"
   },
   {
    "duration": 1560,
    "start_time": "2022-06-21T06:29:29.779Z"
   },
   {
    "duration": 5,
    "start_time": "2022-06-21T06:29:34.454Z"
   },
   {
    "duration": 1353,
    "start_time": "2022-06-21T06:29:34.740Z"
   },
   {
    "duration": 6,
    "start_time": "2022-06-21T06:29:48.762Z"
   },
   {
    "duration": 1365,
    "start_time": "2022-06-21T06:29:49.084Z"
   },
   {
    "duration": 5,
    "start_time": "2022-06-21T06:29:51.536Z"
   },
   {
    "duration": 1334,
    "start_time": "2022-06-21T06:29:51.804Z"
   },
   {
    "duration": 4,
    "start_time": "2022-06-21T06:29:55.090Z"
   },
   {
    "duration": 1418,
    "start_time": "2022-06-21T06:29:55.336Z"
   },
   {
    "duration": 5,
    "start_time": "2022-06-21T06:29:57.998Z"
   },
   {
    "duration": 1381,
    "start_time": "2022-06-21T06:29:58.252Z"
   },
   {
    "duration": 5,
    "start_time": "2022-06-21T06:30:12.079Z"
   },
   {
    "duration": 1385,
    "start_time": "2022-06-21T06:30:12.418Z"
   },
   {
    "duration": 1525,
    "start_time": "2022-06-21T06:30:18.086Z"
   },
   {
    "duration": 1515,
    "start_time": "2022-06-21T06:30:19.612Z"
   },
   {
    "duration": 4,
    "start_time": "2022-06-21T06:33:10.506Z"
   },
   {
    "duration": 371,
    "start_time": "2022-06-21T06:33:10.833Z"
   },
   {
    "duration": 10,
    "start_time": "2022-06-21T06:33:11.345Z"
   },
   {
    "duration": 17,
    "start_time": "2022-06-21T06:33:11.421Z"
   },
   {
    "duration": 54,
    "start_time": "2022-06-21T06:33:11.503Z"
   },
   {
    "duration": 10,
    "start_time": "2022-06-21T06:33:11.688Z"
   },
   {
    "duration": 29,
    "start_time": "2022-06-21T06:33:11.845Z"
   },
   {
    "duration": 114,
    "start_time": "2022-06-21T06:33:11.927Z"
   },
   {
    "duration": 191,
    "start_time": "2022-06-21T06:33:12.043Z"
   },
   {
    "duration": 3,
    "start_time": "2022-06-21T06:33:12.236Z"
   },
   {
    "duration": 98,
    "start_time": "2022-06-21T06:33:12.328Z"
   },
   {
    "duration": 6,
    "start_time": "2022-06-21T06:33:12.428Z"
   },
   {
    "duration": 18,
    "start_time": "2022-06-21T06:33:12.435Z"
   },
   {
    "duration": 9,
    "start_time": "2022-06-21T06:33:12.505Z"
   },
   {
    "duration": 3,
    "start_time": "2022-06-21T06:33:12.753Z"
   },
   {
    "duration": 11,
    "start_time": "2022-06-21T06:33:12.846Z"
   },
   {
    "duration": 3,
    "start_time": "2022-06-21T06:33:12.921Z"
   },
   {
    "duration": 10,
    "start_time": "2022-06-21T06:33:13.089Z"
   },
   {
    "duration": 11,
    "start_time": "2022-06-21T06:33:13.173Z"
   },
   {
    "duration": 11,
    "start_time": "2022-06-21T06:33:13.255Z"
   },
   {
    "duration": 3,
    "start_time": "2022-06-21T06:33:13.422Z"
   },
   {
    "duration": 5,
    "start_time": "2022-06-21T06:33:13.507Z"
   },
   {
    "duration": 1535,
    "start_time": "2022-06-21T06:33:13.590Z"
   },
   {
    "duration": 1346,
    "start_time": "2022-06-21T06:33:15.127Z"
   },
   {
    "duration": 1392,
    "start_time": "2022-06-21T06:33:16.475Z"
   },
   {
    "duration": 5,
    "start_time": "2022-06-21T06:34:32.111Z"
   },
   {
    "duration": 1345,
    "start_time": "2022-06-21T06:34:32.354Z"
   },
   {
    "duration": 1362,
    "start_time": "2022-06-21T06:34:33.701Z"
   },
   {
    "duration": 1246,
    "start_time": "2022-06-21T06:34:35.065Z"
   },
   {
    "duration": 98,
    "start_time": "2022-06-21T06:36:41.853Z"
   },
   {
    "duration": 1362,
    "start_time": "2022-06-21T06:36:42.266Z"
   },
   {
    "duration": 5,
    "start_time": "2022-06-21T06:36:55.119Z"
   },
   {
    "duration": 1459,
    "start_time": "2022-06-21T06:36:55.497Z"
   },
   {
    "duration": 1355,
    "start_time": "2022-06-21T06:36:56.959Z"
   },
   {
    "duration": 1383,
    "start_time": "2022-06-21T06:36:58.316Z"
   },
   {
    "duration": 84,
    "start_time": "2022-06-21T06:40:35.939Z"
   },
   {
    "duration": 96,
    "start_time": "2022-06-21T06:40:38.158Z"
   },
   {
    "duration": 1719,
    "start_time": "2022-06-26T09:30:21.458Z"
   },
   {
    "duration": 1935,
    "start_time": "2022-06-26T09:30:23.179Z"
   },
   {
    "duration": 13,
    "start_time": "2022-06-26T09:30:25.116Z"
   },
   {
    "duration": 16,
    "start_time": "2022-06-26T09:30:25.131Z"
   },
   {
    "duration": 51,
    "start_time": "2022-06-26T09:30:25.149Z"
   },
   {
    "duration": 16,
    "start_time": "2022-06-26T09:30:25.202Z"
   },
   {
    "duration": 130,
    "start_time": "2022-06-26T09:30:25.220Z"
   },
   {
    "duration": 106,
    "start_time": "2022-06-26T09:30:25.442Z"
   },
   {
    "duration": 203,
    "start_time": "2022-06-26T09:30:25.550Z"
   },
   {
    "duration": 3,
    "start_time": "2022-06-26T09:30:25.756Z"
   },
   {
    "duration": 182,
    "start_time": "2022-06-26T09:30:25.761Z"
   },
   {
    "duration": 7,
    "start_time": "2022-06-26T09:30:25.945Z"
   },
   {
    "duration": 16,
    "start_time": "2022-06-26T09:30:25.953Z"
   },
   {
    "duration": 10,
    "start_time": "2022-06-26T09:30:25.971Z"
   },
   {
    "duration": 3,
    "start_time": "2022-06-26T09:30:29.335Z"
   },
   {
    "duration": 13,
    "start_time": "2022-06-26T09:30:29.577Z"
   },
   {
    "duration": 3,
    "start_time": "2022-06-26T09:30:29.661Z"
   },
   {
    "duration": 140,
    "start_time": "2022-06-26T09:30:29.910Z"
   },
   {
    "duration": 0,
    "start_time": "2022-06-26T09:30:30.052Z"
   },
   {
    "duration": 20,
    "start_time": "2022-06-26T09:30:30.077Z"
   },
   {
    "duration": 3,
    "start_time": "2022-06-26T09:30:30.330Z"
   },
   {
    "duration": 98,
    "start_time": "2022-06-26T09:30:30.412Z"
   },
   {
    "duration": 12,
    "start_time": "2022-06-26T09:30:30.580Z"
   },
   {
    "duration": 10,
    "start_time": "2022-06-26T09:30:30.665Z"
   },
   {
    "duration": 10,
    "start_time": "2022-06-26T09:30:30.751Z"
   },
   {
    "duration": 6,
    "start_time": "2022-06-26T09:30:43.597Z"
   },
   {
    "duration": 21,
    "start_time": "2022-06-26T09:30:44.682Z"
   },
   {
    "duration": 10,
    "start_time": "2022-06-26T09:52:30.227Z"
   },
   {
    "duration": 4,
    "start_time": "2022-06-26T09:52:30.963Z"
   },
   {
    "duration": 11,
    "start_time": "2022-06-26T09:52:32.662Z"
   },
   {
    "duration": 11,
    "start_time": "2022-06-26T09:52:33.375Z"
   },
   {
    "duration": 10,
    "start_time": "2022-06-26T09:52:33.953Z"
   },
   {
    "duration": 3,
    "start_time": "2022-06-26T09:52:40.075Z"
   },
   {
    "duration": 5,
    "start_time": "2022-06-26T09:52:40.465Z"
   },
   {
    "duration": 1420,
    "start_time": "2022-06-26T09:52:41.110Z"
   },
   {
    "duration": 0,
    "start_time": "2022-06-26T09:52:42.532Z"
   },
   {
    "duration": 0,
    "start_time": "2022-06-26T09:52:42.533Z"
   },
   {
    "duration": 6,
    "start_time": "2022-06-26T09:53:11.388Z"
   },
   {
    "duration": 1491,
    "start_time": "2022-06-26T09:53:12.437Z"
   },
   {
    "duration": 1492,
    "start_time": "2022-06-26T09:53:13.930Z"
   },
   {
    "duration": 1484,
    "start_time": "2022-06-26T09:53:15.424Z"
   }
  ],
  "kernelspec": {
   "display_name": "Python 3",
   "language": "python",
   "name": "python3"
  },
  "language_info": {
   "codemirror_mode": {
    "name": "ipython",
    "version": 3
   },
   "file_extension": ".py",
   "mimetype": "text/x-python",
   "name": "python",
   "nbconvert_exporter": "python",
   "pygments_lexer": "ipython3",
   "version": "3.8.8"
  },
  "toc": {
   "base_numbering": 1,
   "nav_menu": {},
   "number_sections": true,
   "sideBar": true,
   "skip_h1_title": true,
   "title_cell": "Table of Contents",
   "title_sidebar": "Contents",
   "toc_cell": false,
   "toc_position": {},
   "toc_section_display": true,
   "toc_window_display": false
  }
 },
 "nbformat": 4,
 "nbformat_minor": 2
}
